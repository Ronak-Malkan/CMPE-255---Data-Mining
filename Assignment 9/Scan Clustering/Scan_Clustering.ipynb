{
  "nbformat": 4,
  "nbformat_minor": 0,
  "metadata": {
    "colab": {
      "provenance": []
    },
    "kernelspec": {
      "name": "python3",
      "display_name": "Python 3"
    },
    "language_info": {
      "name": "python"
    },
    "widgets": {
      "application/vnd.jupyter.widget-state+json": {
        "6a578864c5a84bf49336005882d34644": {
          "model_module": "@jupyter-widgets/controls",
          "model_name": "HBoxModel",
          "model_module_version": "1.5.0",
          "state": {
            "_dom_classes": [],
            "_model_module": "@jupyter-widgets/controls",
            "_model_module_version": "1.5.0",
            "_model_name": "HBoxModel",
            "_view_count": null,
            "_view_module": "@jupyter-widgets/controls",
            "_view_module_version": "1.5.0",
            "_view_name": "HBoxView",
            "box_style": "",
            "children": [
              "IPY_MODEL_ea5a1534116d44b183e88debf839c3c5",
              "IPY_MODEL_5680307637574bc392209e5420eb9e5b",
              "IPY_MODEL_5879d2e1a2e34c239a73c9cad148845f"
            ],
            "layout": "IPY_MODEL_8fd912553d8d4ce184b1a6872ba01e02"
          }
        },
        "ea5a1534116d44b183e88debf839c3c5": {
          "model_module": "@jupyter-widgets/controls",
          "model_name": "HTMLModel",
          "model_module_version": "1.5.0",
          "state": {
            "_dom_classes": [],
            "_model_module": "@jupyter-widgets/controls",
            "_model_module_version": "1.5.0",
            "_model_name": "HTMLModel",
            "_view_count": null,
            "_view_module": "@jupyter-widgets/controls",
            "_view_module_version": "1.5.0",
            "_view_name": "HTMLView",
            "description": "",
            "description_tooltip": null,
            "layout": "IPY_MODEL_b82a6c3cf4014df889feebfef9063c05",
            "placeholder": "​",
            "style": "IPY_MODEL_8ea877da4d3f4d508cf913d908ea4c0d",
            "value": "Processing:   0%"
          }
        },
        "5680307637574bc392209e5420eb9e5b": {
          "model_module": "@jupyter-widgets/controls",
          "model_name": "FloatProgressModel",
          "model_module_version": "1.5.0",
          "state": {
            "_dom_classes": [],
            "_model_module": "@jupyter-widgets/controls",
            "_model_module_version": "1.5.0",
            "_model_name": "FloatProgressModel",
            "_view_count": null,
            "_view_module": "@jupyter-widgets/controls",
            "_view_module_version": "1.5.0",
            "_view_name": "ProgressView",
            "bar_style": "",
            "description": "",
            "description_tooltip": null,
            "layout": "IPY_MODEL_1f0e15c445a24f7bae70fc6508e35a1d",
            "max": 3,
            "min": 0,
            "orientation": "horizontal",
            "style": "IPY_MODEL_3d54bf4a80774ee9b0ce364d16674c49",
            "value": 3
          }
        },
        "5879d2e1a2e34c239a73c9cad148845f": {
          "model_module": "@jupyter-widgets/controls",
          "model_name": "HTMLModel",
          "model_module_version": "1.5.0",
          "state": {
            "_dom_classes": [],
            "_model_module": "@jupyter-widgets/controls",
            "_model_module_version": "1.5.0",
            "_model_name": "HTMLModel",
            "_view_count": null,
            "_view_module": "@jupyter-widgets/controls",
            "_view_module_version": "1.5.0",
            "_view_name": "HTMLView",
            "description": "",
            "description_tooltip": null,
            "layout": "IPY_MODEL_a9f2ba73e2cd452b8e450085de852948",
            "placeholder": "​",
            "style": "IPY_MODEL_763d8ca634a748a4a81c591ec2ee0799",
            "value": " 0/3 [00:00&lt;?, ?it/s]"
          }
        },
        "8fd912553d8d4ce184b1a6872ba01e02": {
          "model_module": "@jupyter-widgets/base",
          "model_name": "LayoutModel",
          "model_module_version": "1.2.0",
          "state": {
            "_model_module": "@jupyter-widgets/base",
            "_model_module_version": "1.2.0",
            "_model_name": "LayoutModel",
            "_view_count": null,
            "_view_module": "@jupyter-widgets/base",
            "_view_module_version": "1.2.0",
            "_view_name": "LayoutView",
            "align_content": null,
            "align_items": null,
            "align_self": null,
            "border": null,
            "bottom": null,
            "display": null,
            "flex": null,
            "flex_flow": null,
            "grid_area": null,
            "grid_auto_columns": null,
            "grid_auto_flow": null,
            "grid_auto_rows": null,
            "grid_column": null,
            "grid_gap": null,
            "grid_row": null,
            "grid_template_areas": null,
            "grid_template_columns": null,
            "grid_template_rows": null,
            "height": null,
            "justify_content": null,
            "justify_items": null,
            "left": null,
            "margin": null,
            "max_height": null,
            "max_width": null,
            "min_height": null,
            "min_width": null,
            "object_fit": null,
            "object_position": null,
            "order": null,
            "overflow": null,
            "overflow_x": null,
            "overflow_y": null,
            "padding": null,
            "right": null,
            "top": null,
            "visibility": "hidden",
            "width": null
          }
        },
        "b82a6c3cf4014df889feebfef9063c05": {
          "model_module": "@jupyter-widgets/base",
          "model_name": "LayoutModel",
          "model_module_version": "1.2.0",
          "state": {
            "_model_module": "@jupyter-widgets/base",
            "_model_module_version": "1.2.0",
            "_model_name": "LayoutModel",
            "_view_count": null,
            "_view_module": "@jupyter-widgets/base",
            "_view_module_version": "1.2.0",
            "_view_name": "LayoutView",
            "align_content": null,
            "align_items": null,
            "align_self": null,
            "border": null,
            "bottom": null,
            "display": null,
            "flex": null,
            "flex_flow": null,
            "grid_area": null,
            "grid_auto_columns": null,
            "grid_auto_flow": null,
            "grid_auto_rows": null,
            "grid_column": null,
            "grid_gap": null,
            "grid_row": null,
            "grid_template_areas": null,
            "grid_template_columns": null,
            "grid_template_rows": null,
            "height": null,
            "justify_content": null,
            "justify_items": null,
            "left": null,
            "margin": null,
            "max_height": null,
            "max_width": null,
            "min_height": null,
            "min_width": null,
            "object_fit": null,
            "object_position": null,
            "order": null,
            "overflow": null,
            "overflow_x": null,
            "overflow_y": null,
            "padding": null,
            "right": null,
            "top": null,
            "visibility": null,
            "width": null
          }
        },
        "8ea877da4d3f4d508cf913d908ea4c0d": {
          "model_module": "@jupyter-widgets/controls",
          "model_name": "DescriptionStyleModel",
          "model_module_version": "1.5.0",
          "state": {
            "_model_module": "@jupyter-widgets/controls",
            "_model_module_version": "1.5.0",
            "_model_name": "DescriptionStyleModel",
            "_view_count": null,
            "_view_module": "@jupyter-widgets/base",
            "_view_module_version": "1.2.0",
            "_view_name": "StyleView",
            "description_width": ""
          }
        },
        "1f0e15c445a24f7bae70fc6508e35a1d": {
          "model_module": "@jupyter-widgets/base",
          "model_name": "LayoutModel",
          "model_module_version": "1.2.0",
          "state": {
            "_model_module": "@jupyter-widgets/base",
            "_model_module_version": "1.2.0",
            "_model_name": "LayoutModel",
            "_view_count": null,
            "_view_module": "@jupyter-widgets/base",
            "_view_module_version": "1.2.0",
            "_view_name": "LayoutView",
            "align_content": null,
            "align_items": null,
            "align_self": null,
            "border": null,
            "bottom": null,
            "display": null,
            "flex": null,
            "flex_flow": null,
            "grid_area": null,
            "grid_auto_columns": null,
            "grid_auto_flow": null,
            "grid_auto_rows": null,
            "grid_column": null,
            "grid_gap": null,
            "grid_row": null,
            "grid_template_areas": null,
            "grid_template_columns": null,
            "grid_template_rows": null,
            "height": null,
            "justify_content": null,
            "justify_items": null,
            "left": null,
            "margin": null,
            "max_height": null,
            "max_width": null,
            "min_height": null,
            "min_width": null,
            "object_fit": null,
            "object_position": null,
            "order": null,
            "overflow": null,
            "overflow_x": null,
            "overflow_y": null,
            "padding": null,
            "right": null,
            "top": null,
            "visibility": null,
            "width": null
          }
        },
        "3d54bf4a80774ee9b0ce364d16674c49": {
          "model_module": "@jupyter-widgets/controls",
          "model_name": "ProgressStyleModel",
          "model_module_version": "1.5.0",
          "state": {
            "_model_module": "@jupyter-widgets/controls",
            "_model_module_version": "1.5.0",
            "_model_name": "ProgressStyleModel",
            "_view_count": null,
            "_view_module": "@jupyter-widgets/base",
            "_view_module_version": "1.2.0",
            "_view_name": "StyleView",
            "bar_color": null,
            "description_width": ""
          }
        },
        "a9f2ba73e2cd452b8e450085de852948": {
          "model_module": "@jupyter-widgets/base",
          "model_name": "LayoutModel",
          "model_module_version": "1.2.0",
          "state": {
            "_model_module": "@jupyter-widgets/base",
            "_model_module_version": "1.2.0",
            "_model_name": "LayoutModel",
            "_view_count": null,
            "_view_module": "@jupyter-widgets/base",
            "_view_module_version": "1.2.0",
            "_view_name": "LayoutView",
            "align_content": null,
            "align_items": null,
            "align_self": null,
            "border": null,
            "bottom": null,
            "display": null,
            "flex": null,
            "flex_flow": null,
            "grid_area": null,
            "grid_auto_columns": null,
            "grid_auto_flow": null,
            "grid_auto_rows": null,
            "grid_column": null,
            "grid_gap": null,
            "grid_row": null,
            "grid_template_areas": null,
            "grid_template_columns": null,
            "grid_template_rows": null,
            "height": null,
            "justify_content": null,
            "justify_items": null,
            "left": null,
            "margin": null,
            "max_height": null,
            "max_width": null,
            "min_height": null,
            "min_width": null,
            "object_fit": null,
            "object_position": null,
            "order": null,
            "overflow": null,
            "overflow_x": null,
            "overflow_y": null,
            "padding": null,
            "right": null,
            "top": null,
            "visibility": null,
            "width": null
          }
        },
        "763d8ca634a748a4a81c591ec2ee0799": {
          "model_module": "@jupyter-widgets/controls",
          "model_name": "DescriptionStyleModel",
          "model_module_version": "1.5.0",
          "state": {
            "_model_module": "@jupyter-widgets/controls",
            "_model_module_version": "1.5.0",
            "_model_name": "DescriptionStyleModel",
            "_view_count": null,
            "_view_module": "@jupyter-widgets/base",
            "_view_module_version": "1.2.0",
            "_view_name": "StyleView",
            "description_width": ""
          }
        },
        "ac90c14a38534d0c931f45867c7ea271": {
          "model_module": "@jupyter-widgets/controls",
          "model_name": "VBoxModel",
          "model_module_version": "1.5.0",
          "state": {
            "_dom_classes": [
              "widget-interact"
            ],
            "_model_module": "@jupyter-widgets/controls",
            "_model_module_version": "1.5.0",
            "_model_name": "VBoxModel",
            "_view_count": null,
            "_view_module": "@jupyter-widgets/controls",
            "_view_module_version": "1.5.0",
            "_view_name": "VBoxView",
            "box_style": "",
            "children": [
              "IPY_MODEL_5704c334771642d997cf7d98efe91040",
              "IPY_MODEL_d10733415da84360ae27f0a20c5086b4"
            ],
            "layout": "IPY_MODEL_472dc6beced645f9b86adecf18c4a10c"
          }
        },
        "5704c334771642d997cf7d98efe91040": {
          "model_module": "@jupyter-widgets/controls",
          "model_name": "ToggleButtonsModel",
          "model_module_version": "1.5.0",
          "state": {
            "_dom_classes": [],
            "_model_module": "@jupyter-widgets/controls",
            "_model_module_version": "1.5.0",
            "_model_name": "ToggleButtonsModel",
            "_options_labels": [
              "Pipeline Plot",
              "t-SNE (3d) Dimension Plot",
              "Cluster t-SNE (3d)",
              "Elbow Plot",
              "Silhouette Plot",
              "Distance Plot",
              "Distribution Plot"
            ],
            "_view_count": null,
            "_view_module": "@jupyter-widgets/controls",
            "_view_module_version": "1.5.0",
            "_view_name": "ToggleButtonsView",
            "button_style": "",
            "description": "Plot Type:",
            "description_tooltip": null,
            "disabled": false,
            "icons": [
              ""
            ],
            "index": 0,
            "layout": "IPY_MODEL_61ce8703ea894ea68e76c63b23896bda",
            "style": "IPY_MODEL_9e30ee03b3894bad96924f6399981916",
            "tooltips": []
          }
        },
        "d10733415da84360ae27f0a20c5086b4": {
          "model_module": "@jupyter-widgets/output",
          "model_name": "OutputModel",
          "model_module_version": "1.0.0",
          "state": {
            "_dom_classes": [],
            "_model_module": "@jupyter-widgets/output",
            "_model_module_version": "1.0.0",
            "_model_name": "OutputModel",
            "_view_count": null,
            "_view_module": "@jupyter-widgets/output",
            "_view_module_version": "1.0.0",
            "_view_name": "OutputView",
            "layout": "IPY_MODEL_51d906727ca547f18bee1d2bce9c0953",
            "msg_id": "",
            "outputs": [
              {
                "output_type": "display_data",
                "data": {
                  "text/plain": "<Figure size 1700x600 with 1 Axes>",
                  "image/png": "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\n"
                },
                "metadata": {}
              }
            ]
          }
        },
        "472dc6beced645f9b86adecf18c4a10c": {
          "model_module": "@jupyter-widgets/base",
          "model_name": "LayoutModel",
          "model_module_version": "1.2.0",
          "state": {
            "_model_module": "@jupyter-widgets/base",
            "_model_module_version": "1.2.0",
            "_model_name": "LayoutModel",
            "_view_count": null,
            "_view_module": "@jupyter-widgets/base",
            "_view_module_version": "1.2.0",
            "_view_name": "LayoutView",
            "align_content": null,
            "align_items": null,
            "align_self": null,
            "border": null,
            "bottom": null,
            "display": null,
            "flex": null,
            "flex_flow": null,
            "grid_area": null,
            "grid_auto_columns": null,
            "grid_auto_flow": null,
            "grid_auto_rows": null,
            "grid_column": null,
            "grid_gap": null,
            "grid_row": null,
            "grid_template_areas": null,
            "grid_template_columns": null,
            "grid_template_rows": null,
            "height": null,
            "justify_content": null,
            "justify_items": null,
            "left": null,
            "margin": null,
            "max_height": null,
            "max_width": null,
            "min_height": null,
            "min_width": null,
            "object_fit": null,
            "object_position": null,
            "order": null,
            "overflow": null,
            "overflow_x": null,
            "overflow_y": null,
            "padding": null,
            "right": null,
            "top": null,
            "visibility": null,
            "width": null
          }
        },
        "61ce8703ea894ea68e76c63b23896bda": {
          "model_module": "@jupyter-widgets/base",
          "model_name": "LayoutModel",
          "model_module_version": "1.2.0",
          "state": {
            "_model_module": "@jupyter-widgets/base",
            "_model_module_version": "1.2.0",
            "_model_name": "LayoutModel",
            "_view_count": null,
            "_view_module": "@jupyter-widgets/base",
            "_view_module_version": "1.2.0",
            "_view_name": "LayoutView",
            "align_content": null,
            "align_items": null,
            "align_self": null,
            "border": null,
            "bottom": null,
            "display": null,
            "flex": null,
            "flex_flow": null,
            "grid_area": null,
            "grid_auto_columns": null,
            "grid_auto_flow": null,
            "grid_auto_rows": null,
            "grid_column": null,
            "grid_gap": null,
            "grid_row": null,
            "grid_template_areas": null,
            "grid_template_columns": null,
            "grid_template_rows": null,
            "height": null,
            "justify_content": null,
            "justify_items": null,
            "left": null,
            "margin": null,
            "max_height": null,
            "max_width": null,
            "min_height": null,
            "min_width": null,
            "object_fit": null,
            "object_position": null,
            "order": null,
            "overflow": null,
            "overflow_x": null,
            "overflow_y": null,
            "padding": null,
            "right": null,
            "top": null,
            "visibility": null,
            "width": null
          }
        },
        "9e30ee03b3894bad96924f6399981916": {
          "model_module": "@jupyter-widgets/controls",
          "model_name": "ToggleButtonsStyleModel",
          "model_module_version": "1.5.0",
          "state": {
            "_model_module": "@jupyter-widgets/controls",
            "_model_module_version": "1.5.0",
            "_model_name": "ToggleButtonsStyleModel",
            "_view_count": null,
            "_view_module": "@jupyter-widgets/base",
            "_view_module_version": "1.2.0",
            "_view_name": "StyleView",
            "button_width": "",
            "description_width": "",
            "font_weight": ""
          }
        },
        "51d906727ca547f18bee1d2bce9c0953": {
          "model_module": "@jupyter-widgets/base",
          "model_name": "LayoutModel",
          "model_module_version": "1.2.0",
          "state": {
            "_model_module": "@jupyter-widgets/base",
            "_model_module_version": "1.2.0",
            "_model_name": "LayoutModel",
            "_view_count": null,
            "_view_module": "@jupyter-widgets/base",
            "_view_module_version": "1.2.0",
            "_view_name": "LayoutView",
            "align_content": null,
            "align_items": null,
            "align_self": null,
            "border": null,
            "bottom": null,
            "display": null,
            "flex": null,
            "flex_flow": null,
            "grid_area": null,
            "grid_auto_columns": null,
            "grid_auto_flow": null,
            "grid_auto_rows": null,
            "grid_column": null,
            "grid_gap": null,
            "grid_row": null,
            "grid_template_areas": null,
            "grid_template_columns": null,
            "grid_template_rows": null,
            "height": null,
            "justify_content": null,
            "justify_items": null,
            "left": null,
            "margin": null,
            "max_height": null,
            "max_width": null,
            "min_height": null,
            "min_width": null,
            "object_fit": null,
            "object_position": null,
            "order": null,
            "overflow": null,
            "overflow_x": null,
            "overflow_y": null,
            "padding": null,
            "right": null,
            "top": null,
            "visibility": null,
            "width": null
          }
        }
      }
    }
  },
  "cells": [
    {
      "cell_type": "code",
      "execution_count": 1,
      "metadata": {
        "colab": {
          "base_uri": "https://localhost:8080/",
          "height": 1000
        },
        "id": "FzDPrCsRYArE",
        "outputId": "fe00acd8-0314-4b1f-81ab-610177730b89"
      },
      "outputs": [
        {
          "output_type": "stream",
          "name": "stdout",
          "text": [
            "Collecting pycaret\n",
            "  Downloading pycaret-3.3.2-py3-none-any.whl.metadata (17 kB)\n",
            "Requirement already satisfied: ipython>=5.5.0 in /usr/local/lib/python3.10/dist-packages (from pycaret) (7.34.0)\n",
            "Requirement already satisfied: ipywidgets>=7.6.5 in /usr/local/lib/python3.10/dist-packages (from pycaret) (7.7.1)\n",
            "Requirement already satisfied: tqdm>=4.62.0 in /usr/local/lib/python3.10/dist-packages (from pycaret) (4.66.6)\n",
            "Requirement already satisfied: numpy<1.27,>=1.21 in /usr/local/lib/python3.10/dist-packages (from pycaret) (1.26.4)\n",
            "Collecting pandas<2.2.0 (from pycaret)\n",
            "  Downloading pandas-2.1.4-cp310-cp310-manylinux_2_17_x86_64.manylinux2014_x86_64.whl.metadata (18 kB)\n",
            "Requirement already satisfied: jinja2>=3 in /usr/local/lib/python3.10/dist-packages (from pycaret) (3.1.4)\n",
            "Collecting scipy<=1.11.4,>=1.6.1 (from pycaret)\n",
            "  Downloading scipy-1.11.4-cp310-cp310-manylinux_2_17_x86_64.manylinux2014_x86_64.whl.metadata (60 kB)\n",
            "\u001b[2K     \u001b[90m━━━━━━━━━━━━━━━━━━━━━━━━━━━━━━━━━━━━━━━━\u001b[0m \u001b[32m60.4/60.4 kB\u001b[0m \u001b[31m2.6 MB/s\u001b[0m eta \u001b[36m0:00:00\u001b[0m\n",
            "\u001b[?25hCollecting joblib<1.4,>=1.2.0 (from pycaret)\n",
            "  Downloading joblib-1.3.2-py3-none-any.whl.metadata (5.4 kB)\n",
            "Requirement already satisfied: scikit-learn>1.4.0 in /usr/local/lib/python3.10/dist-packages (from pycaret) (1.5.2)\n",
            "Collecting pyod>=1.1.3 (from pycaret)\n",
            "  Downloading pyod-2.0.2.tar.gz (165 kB)\n",
            "\u001b[2K     \u001b[90m━━━━━━━━━━━━━━━━━━━━━━━━━━━━━━━━━━━━━━━━\u001b[0m \u001b[32m165.8/165.8 kB\u001b[0m \u001b[31m6.5 MB/s\u001b[0m eta \u001b[36m0:00:00\u001b[0m\n",
            "\u001b[?25h  Preparing metadata (setup.py) ... \u001b[?25l\u001b[?25hdone\n",
            "Requirement already satisfied: imbalanced-learn>=0.12.0 in /usr/local/lib/python3.10/dist-packages (from pycaret) (0.12.4)\n",
            "Collecting category-encoders>=2.4.0 (from pycaret)\n",
            "  Downloading category_encoders-2.6.4-py2.py3-none-any.whl.metadata (8.0 kB)\n",
            "Requirement already satisfied: lightgbm>=3.0.0 in /usr/local/lib/python3.10/dist-packages (from pycaret) (4.5.0)\n",
            "Requirement already satisfied: numba>=0.55.0 in /usr/local/lib/python3.10/dist-packages (from pycaret) (0.60.0)\n",
            "Requirement already satisfied: requests>=2.27.1 in /usr/local/lib/python3.10/dist-packages (from pycaret) (2.32.3)\n",
            "Requirement already satisfied: psutil>=5.9.0 in /usr/local/lib/python3.10/dist-packages (from pycaret) (5.9.5)\n",
            "Requirement already satisfied: markupsafe>=2.0.1 in /usr/local/lib/python3.10/dist-packages (from pycaret) (3.0.2)\n",
            "Requirement already satisfied: importlib-metadata>=4.12.0 in /usr/local/lib/python3.10/dist-packages (from pycaret) (8.5.0)\n",
            "Requirement already satisfied: nbformat>=4.2.0 in /usr/local/lib/python3.10/dist-packages (from pycaret) (5.10.4)\n",
            "Requirement already satisfied: cloudpickle in /usr/local/lib/python3.10/dist-packages (from pycaret) (3.1.0)\n",
            "Collecting deprecation>=2.1.0 (from pycaret)\n",
            "  Downloading deprecation-2.1.0-py2.py3-none-any.whl.metadata (4.6 kB)\n",
            "Collecting xxhash (from pycaret)\n",
            "  Downloading xxhash-3.5.0-cp310-cp310-manylinux_2_17_x86_64.manylinux2014_x86_64.whl.metadata (12 kB)\n",
            "Collecting matplotlib<3.8.0 (from pycaret)\n",
            "  Downloading matplotlib-3.7.5-cp310-cp310-manylinux_2_17_x86_64.manylinux2014_x86_64.whl.metadata (5.7 kB)\n",
            "Collecting scikit-plot>=0.3.7 (from pycaret)\n",
            "  Downloading scikit_plot-0.3.7-py3-none-any.whl.metadata (7.1 kB)\n",
            "Requirement already satisfied: yellowbrick>=1.4 in /usr/local/lib/python3.10/dist-packages (from pycaret) (1.5)\n",
            "Requirement already satisfied: plotly>=5.14.0 in /usr/local/lib/python3.10/dist-packages (from pycaret) (5.24.1)\n",
            "Collecting kaleido>=0.2.1 (from pycaret)\n",
            "  Downloading kaleido-0.2.1-py2.py3-none-manylinux1_x86_64.whl.metadata (15 kB)\n",
            "Collecting schemdraw==0.15 (from pycaret)\n",
            "  Downloading schemdraw-0.15-py3-none-any.whl.metadata (2.2 kB)\n",
            "Collecting plotly-resampler>=0.8.3.1 (from pycaret)\n",
            "  Downloading plotly_resampler-0.10.0-py3-none-any.whl.metadata (13 kB)\n",
            "Requirement already satisfied: statsmodels>=0.12.1 in /usr/local/lib/python3.10/dist-packages (from pycaret) (0.14.4)\n",
            "Collecting sktime==0.26.0 (from pycaret)\n",
            "  Downloading sktime-0.26.0-py3-none-any.whl.metadata (29 kB)\n",
            "Collecting tbats>=1.1.3 (from pycaret)\n",
            "  Downloading tbats-1.1.3-py3-none-any.whl.metadata (3.8 kB)\n",
            "Collecting pmdarima>=2.0.4 (from pycaret)\n",
            "  Downloading pmdarima-2.0.4-cp310-cp310-manylinux_2_17_x86_64.manylinux2014_x86_64.manylinux_2_28_x86_64.whl.metadata (7.8 kB)\n",
            "Collecting wurlitzer (from pycaret)\n",
            "  Downloading wurlitzer-3.1.1-py3-none-any.whl.metadata (2.5 kB)\n",
            "Requirement already satisfied: packaging in /usr/local/lib/python3.10/dist-packages (from sktime==0.26.0->pycaret) (24.2)\n",
            "Collecting scikit-base<0.8.0 (from sktime==0.26.0->pycaret)\n",
            "  Downloading scikit_base-0.7.8-py3-none-any.whl.metadata (8.8 kB)\n",
            "Collecting scikit-learn>1.4.0 (from pycaret)\n",
            "  Downloading scikit_learn-1.4.2-cp310-cp310-manylinux_2_17_x86_64.manylinux2014_x86_64.whl.metadata (11 kB)\n",
            "Requirement already satisfied: patsy>=0.5.1 in /usr/local/lib/python3.10/dist-packages (from category-encoders>=2.4.0->pycaret) (1.0.1)\n",
            "Requirement already satisfied: threadpoolctl>=2.0.0 in /usr/local/lib/python3.10/dist-packages (from imbalanced-learn>=0.12.0->pycaret) (3.5.0)\n",
            "Requirement already satisfied: zipp>=3.20 in /usr/local/lib/python3.10/dist-packages (from importlib-metadata>=4.12.0->pycaret) (3.21.0)\n",
            "Requirement already satisfied: setuptools>=18.5 in /usr/local/lib/python3.10/dist-packages (from ipython>=5.5.0->pycaret) (75.1.0)\n",
            "Collecting jedi>=0.16 (from ipython>=5.5.0->pycaret)\n",
            "  Downloading jedi-0.19.2-py2.py3-none-any.whl.metadata (22 kB)\n",
            "Requirement already satisfied: decorator in /usr/local/lib/python3.10/dist-packages (from ipython>=5.5.0->pycaret) (4.4.2)\n",
            "Requirement already satisfied: pickleshare in /usr/local/lib/python3.10/dist-packages (from ipython>=5.5.0->pycaret) (0.7.5)\n",
            "Requirement already satisfied: traitlets>=4.2 in /usr/local/lib/python3.10/dist-packages (from ipython>=5.5.0->pycaret) (5.7.1)\n",
            "Requirement already satisfied: prompt-toolkit!=3.0.0,!=3.0.1,<3.1.0,>=2.0.0 in /usr/local/lib/python3.10/dist-packages (from ipython>=5.5.0->pycaret) (3.0.48)\n",
            "Requirement already satisfied: pygments in /usr/local/lib/python3.10/dist-packages (from ipython>=5.5.0->pycaret) (2.18.0)\n",
            "Requirement already satisfied: backcall in /usr/local/lib/python3.10/dist-packages (from ipython>=5.5.0->pycaret) (0.2.0)\n",
            "Requirement already satisfied: matplotlib-inline in /usr/local/lib/python3.10/dist-packages (from ipython>=5.5.0->pycaret) (0.1.7)\n",
            "Requirement already satisfied: pexpect>4.3 in /usr/local/lib/python3.10/dist-packages (from ipython>=5.5.0->pycaret) (4.9.0)\n",
            "Requirement already satisfied: ipykernel>=4.5.1 in /usr/local/lib/python3.10/dist-packages (from ipywidgets>=7.6.5->pycaret) (5.5.6)\n",
            "Requirement already satisfied: ipython-genutils~=0.2.0 in /usr/local/lib/python3.10/dist-packages (from ipywidgets>=7.6.5->pycaret) (0.2.0)\n",
            "Requirement already satisfied: widgetsnbextension~=3.6.0 in /usr/local/lib/python3.10/dist-packages (from ipywidgets>=7.6.5->pycaret) (3.6.10)\n",
            "Requirement already satisfied: jupyterlab-widgets>=1.0.0 in /usr/local/lib/python3.10/dist-packages (from ipywidgets>=7.6.5->pycaret) (3.0.13)\n",
            "Requirement already satisfied: contourpy>=1.0.1 in /usr/local/lib/python3.10/dist-packages (from matplotlib<3.8.0->pycaret) (1.3.1)\n",
            "Requirement already satisfied: cycler>=0.10 in /usr/local/lib/python3.10/dist-packages (from matplotlib<3.8.0->pycaret) (0.12.1)\n",
            "Requirement already satisfied: fonttools>=4.22.0 in /usr/local/lib/python3.10/dist-packages (from matplotlib<3.8.0->pycaret) (4.55.0)\n",
            "Requirement already satisfied: kiwisolver>=1.0.1 in /usr/local/lib/python3.10/dist-packages (from matplotlib<3.8.0->pycaret) (1.4.7)\n",
            "Requirement already satisfied: pillow>=6.2.0 in /usr/local/lib/python3.10/dist-packages (from matplotlib<3.8.0->pycaret) (11.0.0)\n",
            "Requirement already satisfied: pyparsing>=2.3.1 in /usr/local/lib/python3.10/dist-packages (from matplotlib<3.8.0->pycaret) (3.2.0)\n",
            "Requirement already satisfied: python-dateutil>=2.7 in /usr/local/lib/python3.10/dist-packages (from matplotlib<3.8.0->pycaret) (2.8.2)\n",
            "Requirement already satisfied: fastjsonschema>=2.15 in /usr/local/lib/python3.10/dist-packages (from nbformat>=4.2.0->pycaret) (2.20.0)\n",
            "Requirement already satisfied: jsonschema>=2.6 in /usr/local/lib/python3.10/dist-packages (from nbformat>=4.2.0->pycaret) (4.23.0)\n",
            "Requirement already satisfied: jupyter-core!=5.0.*,>=4.12 in /usr/local/lib/python3.10/dist-packages (from nbformat>=4.2.0->pycaret) (5.7.2)\n",
            "Requirement already satisfied: llvmlite<0.44,>=0.43.0dev0 in /usr/local/lib/python3.10/dist-packages (from numba>=0.55.0->pycaret) (0.43.0)\n",
            "Requirement already satisfied: pytz>=2020.1 in /usr/local/lib/python3.10/dist-packages (from pandas<2.2.0->pycaret) (2024.2)\n",
            "Requirement already satisfied: tzdata>=2022.1 in /usr/local/lib/python3.10/dist-packages (from pandas<2.2.0->pycaret) (2024.2)\n",
            "Requirement already satisfied: tenacity>=6.2.0 in /usr/local/lib/python3.10/dist-packages (from plotly>=5.14.0->pycaret) (9.0.0)\n",
            "Collecting dash>=2.9.0 (from plotly-resampler>=0.8.3.1->pycaret)\n",
            "  Downloading dash-2.18.2-py3-none-any.whl.metadata (10 kB)\n",
            "Requirement already satisfied: orjson<4.0.0,>=3.8.0 in /usr/local/lib/python3.10/dist-packages (from plotly-resampler>=0.8.3.1->pycaret) (3.10.11)\n",
            "Collecting tsdownsample>=0.1.3 (from plotly-resampler>=0.8.3.1->pycaret)\n",
            "  Downloading tsdownsample-0.1.3-cp310-cp310-manylinux_2_17_x86_64.manylinux2014_x86_64.whl.metadata (7.9 kB)\n",
            "Requirement already satisfied: Cython!=0.29.18,!=0.29.31,>=0.29 in /usr/local/lib/python3.10/dist-packages (from pmdarima>=2.0.4->pycaret) (3.0.11)\n",
            "Requirement already satisfied: urllib3 in /usr/local/lib/python3.10/dist-packages (from pmdarima>=2.0.4->pycaret) (2.2.3)\n",
            "Requirement already satisfied: charset-normalizer<4,>=2 in /usr/local/lib/python3.10/dist-packages (from requests>=2.27.1->pycaret) (3.4.0)\n",
            "Requirement already satisfied: idna<4,>=2.5 in /usr/local/lib/python3.10/dist-packages (from requests>=2.27.1->pycaret) (3.10)\n",
            "Requirement already satisfied: certifi>=2017.4.17 in /usr/local/lib/python3.10/dist-packages (from requests>=2.27.1->pycaret) (2024.8.30)\n",
            "Requirement already satisfied: Flask<3.1,>=1.0.4 in /usr/local/lib/python3.10/dist-packages (from dash>=2.9.0->plotly-resampler>=0.8.3.1->pycaret) (3.0.3)\n",
            "Collecting Werkzeug<3.1 (from dash>=2.9.0->plotly-resampler>=0.8.3.1->pycaret)\n",
            "  Downloading werkzeug-3.0.6-py3-none-any.whl.metadata (3.7 kB)\n",
            "Collecting dash-html-components==2.0.0 (from dash>=2.9.0->plotly-resampler>=0.8.3.1->pycaret)\n",
            "  Downloading dash_html_components-2.0.0-py3-none-any.whl.metadata (3.8 kB)\n",
            "Collecting dash-core-components==2.0.0 (from dash>=2.9.0->plotly-resampler>=0.8.3.1->pycaret)\n",
            "  Downloading dash_core_components-2.0.0-py3-none-any.whl.metadata (2.9 kB)\n",
            "Collecting dash-table==5.0.0 (from dash>=2.9.0->plotly-resampler>=0.8.3.1->pycaret)\n",
            "  Downloading dash_table-5.0.0-py3-none-any.whl.metadata (2.4 kB)\n",
            "Requirement already satisfied: typing-extensions>=4.1.1 in /usr/local/lib/python3.10/dist-packages (from dash>=2.9.0->plotly-resampler>=0.8.3.1->pycaret) (4.12.2)\n",
            "Collecting retrying (from dash>=2.9.0->plotly-resampler>=0.8.3.1->pycaret)\n",
            "  Downloading retrying-1.3.4-py3-none-any.whl.metadata (6.9 kB)\n",
            "Requirement already satisfied: nest-asyncio in /usr/local/lib/python3.10/dist-packages (from dash>=2.9.0->plotly-resampler>=0.8.3.1->pycaret) (1.6.0)\n",
            "Requirement already satisfied: jupyter-client in /usr/local/lib/python3.10/dist-packages (from ipykernel>=4.5.1->ipywidgets>=7.6.5->pycaret) (6.1.12)\n",
            "Requirement already satisfied: tornado>=4.2 in /usr/local/lib/python3.10/dist-packages (from ipykernel>=4.5.1->ipywidgets>=7.6.5->pycaret) (6.3.3)\n",
            "Requirement already satisfied: parso<0.9.0,>=0.8.4 in /usr/local/lib/python3.10/dist-packages (from jedi>=0.16->ipython>=5.5.0->pycaret) (0.8.4)\n",
            "Requirement already satisfied: attrs>=22.2.0 in /usr/local/lib/python3.10/dist-packages (from jsonschema>=2.6->nbformat>=4.2.0->pycaret) (24.2.0)\n",
            "Requirement already satisfied: jsonschema-specifications>=2023.03.6 in /usr/local/lib/python3.10/dist-packages (from jsonschema>=2.6->nbformat>=4.2.0->pycaret) (2024.10.1)\n",
            "Requirement already satisfied: referencing>=0.28.4 in /usr/local/lib/python3.10/dist-packages (from jsonschema>=2.6->nbformat>=4.2.0->pycaret) (0.35.1)\n",
            "Requirement already satisfied: rpds-py>=0.7.1 in /usr/local/lib/python3.10/dist-packages (from jsonschema>=2.6->nbformat>=4.2.0->pycaret) (0.21.0)\n",
            "Requirement already satisfied: platformdirs>=2.5 in /usr/local/lib/python3.10/dist-packages (from jupyter-core!=5.0.*,>=4.12->nbformat>=4.2.0->pycaret) (4.3.6)\n",
            "Requirement already satisfied: ptyprocess>=0.5 in /usr/local/lib/python3.10/dist-packages (from pexpect>4.3->ipython>=5.5.0->pycaret) (0.7.0)\n",
            "Requirement already satisfied: wcwidth in /usr/local/lib/python3.10/dist-packages (from prompt-toolkit!=3.0.0,!=3.0.1,<3.1.0,>=2.0.0->ipython>=5.5.0->pycaret) (0.2.13)\n",
            "Requirement already satisfied: six>=1.5 in /usr/local/lib/python3.10/dist-packages (from python-dateutil>=2.7->matplotlib<3.8.0->pycaret) (1.16.0)\n",
            "Requirement already satisfied: notebook>=4.4.1 in /usr/local/lib/python3.10/dist-packages (from widgetsnbextension~=3.6.0->ipywidgets>=7.6.5->pycaret) (6.5.5)\n",
            "Requirement already satisfied: itsdangerous>=2.1.2 in /usr/local/lib/python3.10/dist-packages (from Flask<3.1,>=1.0.4->dash>=2.9.0->plotly-resampler>=0.8.3.1->pycaret) (2.2.0)\n",
            "Requirement already satisfied: click>=8.1.3 in /usr/local/lib/python3.10/dist-packages (from Flask<3.1,>=1.0.4->dash>=2.9.0->plotly-resampler>=0.8.3.1->pycaret) (8.1.7)\n",
            "Requirement already satisfied: blinker>=1.6.2 in /usr/local/lib/python3.10/dist-packages (from Flask<3.1,>=1.0.4->dash>=2.9.0->plotly-resampler>=0.8.3.1->pycaret) (1.9.0)\n",
            "Requirement already satisfied: pyzmq<25,>=17 in /usr/local/lib/python3.10/dist-packages (from notebook>=4.4.1->widgetsnbextension~=3.6.0->ipywidgets>=7.6.5->pycaret) (24.0.1)\n",
            "Requirement already satisfied: argon2-cffi in /usr/local/lib/python3.10/dist-packages (from notebook>=4.4.1->widgetsnbextension~=3.6.0->ipywidgets>=7.6.5->pycaret) (23.1.0)\n",
            "Requirement already satisfied: nbconvert>=5 in /usr/local/lib/python3.10/dist-packages (from notebook>=4.4.1->widgetsnbextension~=3.6.0->ipywidgets>=7.6.5->pycaret) (7.16.4)\n",
            "Requirement already satisfied: Send2Trash>=1.8.0 in /usr/local/lib/python3.10/dist-packages (from notebook>=4.4.1->widgetsnbextension~=3.6.0->ipywidgets>=7.6.5->pycaret) (1.8.3)\n",
            "Requirement already satisfied: terminado>=0.8.3 in /usr/local/lib/python3.10/dist-packages (from notebook>=4.4.1->widgetsnbextension~=3.6.0->ipywidgets>=7.6.5->pycaret) (0.18.1)\n",
            "Requirement already satisfied: prometheus-client in /usr/local/lib/python3.10/dist-packages (from notebook>=4.4.1->widgetsnbextension~=3.6.0->ipywidgets>=7.6.5->pycaret) (0.21.0)\n",
            "Requirement already satisfied: nbclassic>=0.4.7 in /usr/local/lib/python3.10/dist-packages (from notebook>=4.4.1->widgetsnbextension~=3.6.0->ipywidgets>=7.6.5->pycaret) (1.1.0)\n",
            "Requirement already satisfied: notebook-shim>=0.2.3 in /usr/local/lib/python3.10/dist-packages (from nbclassic>=0.4.7->notebook>=4.4.1->widgetsnbextension~=3.6.0->ipywidgets>=7.6.5->pycaret) (0.2.4)\n",
            "Requirement already satisfied: beautifulsoup4 in /usr/local/lib/python3.10/dist-packages (from nbconvert>=5->notebook>=4.4.1->widgetsnbextension~=3.6.0->ipywidgets>=7.6.5->pycaret) (4.12.3)\n",
            "Requirement already satisfied: bleach!=5.0.0 in /usr/local/lib/python3.10/dist-packages (from nbconvert>=5->notebook>=4.4.1->widgetsnbextension~=3.6.0->ipywidgets>=7.6.5->pycaret) (6.2.0)\n",
            "Requirement already satisfied: defusedxml in /usr/local/lib/python3.10/dist-packages (from nbconvert>=5->notebook>=4.4.1->widgetsnbextension~=3.6.0->ipywidgets>=7.6.5->pycaret) (0.7.1)\n",
            "Requirement already satisfied: jupyterlab-pygments in /usr/local/lib/python3.10/dist-packages (from nbconvert>=5->notebook>=4.4.1->widgetsnbextension~=3.6.0->ipywidgets>=7.6.5->pycaret) (0.3.0)\n",
            "Requirement already satisfied: mistune<4,>=2.0.3 in /usr/local/lib/python3.10/dist-packages (from nbconvert>=5->notebook>=4.4.1->widgetsnbextension~=3.6.0->ipywidgets>=7.6.5->pycaret) (3.0.2)\n",
            "Requirement already satisfied: nbclient>=0.5.0 in /usr/local/lib/python3.10/dist-packages (from nbconvert>=5->notebook>=4.4.1->widgetsnbextension~=3.6.0->ipywidgets>=7.6.5->pycaret) (0.10.0)\n",
            "Requirement already satisfied: pandocfilters>=1.4.1 in /usr/local/lib/python3.10/dist-packages (from nbconvert>=5->notebook>=4.4.1->widgetsnbextension~=3.6.0->ipywidgets>=7.6.5->pycaret) (1.5.1)\n",
            "Requirement already satisfied: tinycss2 in /usr/local/lib/python3.10/dist-packages (from nbconvert>=5->notebook>=4.4.1->widgetsnbextension~=3.6.0->ipywidgets>=7.6.5->pycaret) (1.4.0)\n",
            "Requirement already satisfied: argon2-cffi-bindings in /usr/local/lib/python3.10/dist-packages (from argon2-cffi->notebook>=4.4.1->widgetsnbextension~=3.6.0->ipywidgets>=7.6.5->pycaret) (21.2.0)\n",
            "Requirement already satisfied: webencodings in /usr/local/lib/python3.10/dist-packages (from bleach!=5.0.0->nbconvert>=5->notebook>=4.4.1->widgetsnbextension~=3.6.0->ipywidgets>=7.6.5->pycaret) (0.5.1)\n",
            "Requirement already satisfied: jupyter-server<3,>=1.8 in /usr/local/lib/python3.10/dist-packages (from notebook-shim>=0.2.3->nbclassic>=0.4.7->notebook>=4.4.1->widgetsnbextension~=3.6.0->ipywidgets>=7.6.5->pycaret) (1.24.0)\n",
            "Requirement already satisfied: cffi>=1.0.1 in /usr/local/lib/python3.10/dist-packages (from argon2-cffi-bindings->argon2-cffi->notebook>=4.4.1->widgetsnbextension~=3.6.0->ipywidgets>=7.6.5->pycaret) (1.17.1)\n",
            "Requirement already satisfied: soupsieve>1.2 in /usr/local/lib/python3.10/dist-packages (from beautifulsoup4->nbconvert>=5->notebook>=4.4.1->widgetsnbextension~=3.6.0->ipywidgets>=7.6.5->pycaret) (2.6)\n",
            "Requirement already satisfied: pycparser in /usr/local/lib/python3.10/dist-packages (from cffi>=1.0.1->argon2-cffi-bindings->argon2-cffi->notebook>=4.4.1->widgetsnbextension~=3.6.0->ipywidgets>=7.6.5->pycaret) (2.22)\n",
            "Requirement already satisfied: anyio<4,>=3.1.0 in /usr/local/lib/python3.10/dist-packages (from jupyter-server<3,>=1.8->notebook-shim>=0.2.3->nbclassic>=0.4.7->notebook>=4.4.1->widgetsnbextension~=3.6.0->ipywidgets>=7.6.5->pycaret) (3.7.1)\n",
            "Requirement already satisfied: websocket-client in /usr/local/lib/python3.10/dist-packages (from jupyter-server<3,>=1.8->notebook-shim>=0.2.3->nbclassic>=0.4.7->notebook>=4.4.1->widgetsnbextension~=3.6.0->ipywidgets>=7.6.5->pycaret) (1.8.0)\n",
            "Requirement already satisfied: sniffio>=1.1 in /usr/local/lib/python3.10/dist-packages (from anyio<4,>=3.1.0->jupyter-server<3,>=1.8->notebook-shim>=0.2.3->nbclassic>=0.4.7->notebook>=4.4.1->widgetsnbextension~=3.6.0->ipywidgets>=7.6.5->pycaret) (1.3.1)\n",
            "Requirement already satisfied: exceptiongroup in /usr/local/lib/python3.10/dist-packages (from anyio<4,>=3.1.0->jupyter-server<3,>=1.8->notebook-shim>=0.2.3->nbclassic>=0.4.7->notebook>=4.4.1->widgetsnbextension~=3.6.0->ipywidgets>=7.6.5->pycaret) (1.2.2)\n",
            "Downloading pycaret-3.3.2-py3-none-any.whl (486 kB)\n",
            "\u001b[2K   \u001b[90m━━━━━━━━━━━━━━━━━━━━━━━━━━━━━━━━━━━━━━━━\u001b[0m \u001b[32m486.1/486.1 kB\u001b[0m \u001b[31m18.8 MB/s\u001b[0m eta \u001b[36m0:00:00\u001b[0m\n",
            "\u001b[?25hDownloading schemdraw-0.15-py3-none-any.whl (106 kB)\n",
            "\u001b[2K   \u001b[90m━━━━━━━━━━━━━━━━━━━━━━━━━━━━━━━━━━━━━━━━\u001b[0m \u001b[32m106.8/106.8 kB\u001b[0m \u001b[31m6.3 MB/s\u001b[0m eta \u001b[36m0:00:00\u001b[0m\n",
            "\u001b[?25hDownloading sktime-0.26.0-py3-none-any.whl (21.8 MB)\n",
            "\u001b[2K   \u001b[90m━━━━━━━━━━━━━━━━━━━━━━━━━━━━━━━━━━━━━━━━\u001b[0m \u001b[32m21.8/21.8 MB\u001b[0m \u001b[31m49.8 MB/s\u001b[0m eta \u001b[36m0:00:00\u001b[0m\n",
            "\u001b[?25hDownloading category_encoders-2.6.4-py2.py3-none-any.whl (82 kB)\n",
            "\u001b[2K   \u001b[90m━━━━━━━━━━━━━━━━━━━━━━━━━━━━━━━━━━━━━━━━\u001b[0m \u001b[32m82.0/82.0 kB\u001b[0m \u001b[31m4.9 MB/s\u001b[0m eta \u001b[36m0:00:00\u001b[0m\n",
            "\u001b[?25hDownloading deprecation-2.1.0-py2.py3-none-any.whl (11 kB)\n",
            "Downloading joblib-1.3.2-py3-none-any.whl (302 kB)\n",
            "\u001b[2K   \u001b[90m━━━━━━━━━━━━━━━━━━━━━━━━━━━━━━━━━━━━━━━━\u001b[0m \u001b[32m302.2/302.2 kB\u001b[0m \u001b[31m16.6 MB/s\u001b[0m eta \u001b[36m0:00:00\u001b[0m\n",
            "\u001b[?25hDownloading kaleido-0.2.1-py2.py3-none-manylinux1_x86_64.whl (79.9 MB)\n",
            "\u001b[2K   \u001b[90m━━━━━━━━━━━━━━━━━━━━━━━━━━━━━━━━━━━━━━━━\u001b[0m \u001b[32m79.9/79.9 MB\u001b[0m \u001b[31m8.2 MB/s\u001b[0m eta \u001b[36m0:00:00\u001b[0m\n",
            "\u001b[?25hDownloading matplotlib-3.7.5-cp310-cp310-manylinux_2_17_x86_64.manylinux2014_x86_64.whl (11.6 MB)\n",
            "\u001b[2K   \u001b[90m━━━━━━━━━━━━━━━━━━━━━━━━━━━━━━━━━━━━━━━━\u001b[0m \u001b[32m11.6/11.6 MB\u001b[0m \u001b[31m61.7 MB/s\u001b[0m eta \u001b[36m0:00:00\u001b[0m\n",
            "\u001b[?25hDownloading pandas-2.1.4-cp310-cp310-manylinux_2_17_x86_64.manylinux2014_x86_64.whl (12.3 MB)\n",
            "\u001b[2K   \u001b[90m━━━━━━━━━━━━━━━━━━━━━━━━━━━━━━━━━━━━━━━━\u001b[0m \u001b[32m12.3/12.3 MB\u001b[0m \u001b[31m56.1 MB/s\u001b[0m eta \u001b[36m0:00:00\u001b[0m\n",
            "\u001b[?25hDownloading plotly_resampler-0.10.0-py3-none-any.whl (80 kB)\n",
            "\u001b[2K   \u001b[90m━━━━━━━━━━━━━━━━━━━━━━━━━━━━━━━━━━━━━━━━\u001b[0m \u001b[32m80.7/80.7 kB\u001b[0m \u001b[31m4.9 MB/s\u001b[0m eta \u001b[36m0:00:00\u001b[0m\n",
            "\u001b[?25hDownloading pmdarima-2.0.4-cp310-cp310-manylinux_2_17_x86_64.manylinux2014_x86_64.manylinux_2_28_x86_64.whl (2.1 MB)\n",
            "\u001b[2K   \u001b[90m━━━━━━━━━━━━━━━━━━━━━━━━━━━━━━━━━━━━━━━━\u001b[0m \u001b[32m2.1/2.1 MB\u001b[0m \u001b[31m49.7 MB/s\u001b[0m eta \u001b[36m0:00:00\u001b[0m\n",
            "\u001b[?25hDownloading scikit_learn-1.4.2-cp310-cp310-manylinux_2_17_x86_64.manylinux2014_x86_64.whl (12.1 MB)\n",
            "\u001b[2K   \u001b[90m━━━━━━━━━━━━━━━━━━━━━━━━━━━━━━━━━━━━━━━━\u001b[0m \u001b[32m12.1/12.1 MB\u001b[0m \u001b[31m58.6 MB/s\u001b[0m eta \u001b[36m0:00:00\u001b[0m\n",
            "\u001b[?25hDownloading scikit_plot-0.3.7-py3-none-any.whl (33 kB)\n",
            "Downloading scipy-1.11.4-cp310-cp310-manylinux_2_17_x86_64.manylinux2014_x86_64.whl (36.4 MB)\n",
            "\u001b[2K   \u001b[90m━━━━━━━━━━━━━━━━━━━━━━━━━━━━━━━━━━━━━━━━\u001b[0m \u001b[32m36.4/36.4 MB\u001b[0m \u001b[31m14.4 MB/s\u001b[0m eta \u001b[36m0:00:00\u001b[0m\n",
            "\u001b[?25hDownloading tbats-1.1.3-py3-none-any.whl (44 kB)\n",
            "\u001b[2K   \u001b[90m━━━━━━━━━━━━━━━━━━━━━━━━━━━━━━━━━━━━━━━━\u001b[0m \u001b[32m44.0/44.0 kB\u001b[0m \u001b[31m1.8 MB/s\u001b[0m eta \u001b[36m0:00:00\u001b[0m\n",
            "\u001b[?25hDownloading wurlitzer-3.1.1-py3-none-any.whl (8.6 kB)\n",
            "Downloading xxhash-3.5.0-cp310-cp310-manylinux_2_17_x86_64.manylinux2014_x86_64.whl (194 kB)\n",
            "\u001b[2K   \u001b[90m━━━━━━━━━━━━━━━━━━━━━━━━━━━━━━━━━━━━━━━━\u001b[0m \u001b[32m194.1/194.1 kB\u001b[0m \u001b[31m10.5 MB/s\u001b[0m eta \u001b[36m0:00:00\u001b[0m\n",
            "\u001b[?25hDownloading dash-2.18.2-py3-none-any.whl (7.8 MB)\n",
            "\u001b[2K   \u001b[90m━━━━━━━━━━━━━━━━━━━━━━━━━━━━━━━━━━━━━━━━\u001b[0m \u001b[32m7.8/7.8 MB\u001b[0m \u001b[31m57.9 MB/s\u001b[0m eta \u001b[36m0:00:00\u001b[0m\n",
            "\u001b[?25hDownloading dash_core_components-2.0.0-py3-none-any.whl (3.8 kB)\n",
            "Downloading dash_html_components-2.0.0-py3-none-any.whl (4.1 kB)\n",
            "Downloading dash_table-5.0.0-py3-none-any.whl (3.9 kB)\n",
            "Downloading jedi-0.19.2-py2.py3-none-any.whl (1.6 MB)\n",
            "\u001b[2K   \u001b[90m━━━━━━━━━━━━━━━━━━━━━━━━━━━━━━━━━━━━━━━━\u001b[0m \u001b[32m1.6/1.6 MB\u001b[0m \u001b[31m42.3 MB/s\u001b[0m eta \u001b[36m0:00:00\u001b[0m\n",
            "\u001b[?25hDownloading scikit_base-0.7.8-py3-none-any.whl (130 kB)\n",
            "\u001b[2K   \u001b[90m━━━━━━━━━━━━━━━━━━━━━━━━━━━━━━━━━━━━━━━━\u001b[0m \u001b[32m130.1/130.1 kB\u001b[0m \u001b[31m6.0 MB/s\u001b[0m eta \u001b[36m0:00:00\u001b[0m\n",
            "\u001b[?25hDownloading tsdownsample-0.1.3-cp310-cp310-manylinux_2_17_x86_64.manylinux2014_x86_64.whl (2.1 MB)\n",
            "\u001b[2K   \u001b[90m━━━━━━━━━━━━━━━━━━━━━━━━━━━━━━━━━━━━━━━━\u001b[0m \u001b[32m2.1/2.1 MB\u001b[0m \u001b[31m46.1 MB/s\u001b[0m eta \u001b[36m0:00:00\u001b[0m\n",
            "\u001b[?25hDownloading werkzeug-3.0.6-py3-none-any.whl (227 kB)\n",
            "\u001b[2K   \u001b[90m━━━━━━━━━━━━━━━━━━━━━━━━━━━━━━━━━━━━━━━━\u001b[0m \u001b[32m228.0/228.0 kB\u001b[0m \u001b[31m12.5 MB/s\u001b[0m eta \u001b[36m0:00:00\u001b[0m\n",
            "\u001b[?25hDownloading retrying-1.3.4-py3-none-any.whl (11 kB)\n",
            "Building wheels for collected packages: pyod\n",
            "  Building wheel for pyod (setup.py) ... \u001b[?25l\u001b[?25hdone\n",
            "  Created wheel for pyod: filename=pyod-2.0.2-py3-none-any.whl size=198469 sha256=aee4eba6e96bf6b3c027e02c6ecbe893b926fc93f097a4f631fbfd3e017d0d51\n",
            "  Stored in directory: /root/.cache/pip/wheels/77/c2/20/34d1f15b41b701ba69f42a32304825810d680754d509f91391\n",
            "Successfully built pyod\n",
            "Installing collected packages: kaleido, dash-table, dash-html-components, dash-core-components, xxhash, wurlitzer, Werkzeug, tsdownsample, scipy, scikit-base, schemdraw, retrying, joblib, jedi, deprecation, scikit-learn, pandas, matplotlib, sktime, scikit-plot, pyod, dash, pmdarima, plotly-resampler, category-encoders, tbats, pycaret\n",
            "  Attempting uninstall: Werkzeug\n",
            "    Found existing installation: Werkzeug 3.1.3\n",
            "    Uninstalling Werkzeug-3.1.3:\n",
            "      Successfully uninstalled Werkzeug-3.1.3\n",
            "  Attempting uninstall: scipy\n",
            "    Found existing installation: scipy 1.13.1\n",
            "    Uninstalling scipy-1.13.1:\n",
            "      Successfully uninstalled scipy-1.13.1\n",
            "  Attempting uninstall: joblib\n",
            "    Found existing installation: joblib 1.4.2\n",
            "    Uninstalling joblib-1.4.2:\n",
            "      Successfully uninstalled joblib-1.4.2\n",
            "  Attempting uninstall: scikit-learn\n",
            "    Found existing installation: scikit-learn 1.5.2\n",
            "    Uninstalling scikit-learn-1.5.2:\n",
            "      Successfully uninstalled scikit-learn-1.5.2\n",
            "  Attempting uninstall: pandas\n",
            "    Found existing installation: pandas 2.2.2\n",
            "    Uninstalling pandas-2.2.2:\n",
            "      Successfully uninstalled pandas-2.2.2\n",
            "  Attempting uninstall: matplotlib\n",
            "    Found existing installation: matplotlib 3.8.0\n",
            "    Uninstalling matplotlib-3.8.0:\n",
            "      Successfully uninstalled matplotlib-3.8.0\n",
            "\u001b[31mERROR: pip's dependency resolver does not currently take into account all the packages that are installed. This behaviour is the source of the following dependency conflicts.\n",
            "google-colab 1.0.0 requires pandas==2.2.2, but you have pandas 2.1.4 which is incompatible.\n",
            "mizani 0.13.0 requires pandas>=2.2.0, but you have pandas 2.1.4 which is incompatible.\n",
            "plotnine 0.14.1 requires matplotlib>=3.8.0, but you have matplotlib 3.7.5 which is incompatible.\n",
            "plotnine 0.14.1 requires pandas>=2.2.0, but you have pandas 2.1.4 which is incompatible.\u001b[0m\u001b[31m\n",
            "\u001b[0mSuccessfully installed Werkzeug-3.0.6 category-encoders-2.6.4 dash-2.18.2 dash-core-components-2.0.0 dash-html-components-2.0.0 dash-table-5.0.0 deprecation-2.1.0 jedi-0.19.2 joblib-1.3.2 kaleido-0.2.1 matplotlib-3.7.5 pandas-2.1.4 plotly-resampler-0.10.0 pmdarima-2.0.4 pycaret-3.3.2 pyod-2.0.2 retrying-1.3.4 schemdraw-0.15 scikit-base-0.7.8 scikit-learn-1.4.2 scikit-plot-0.3.7 scipy-1.11.4 sktime-0.26.0 tbats-1.1.3 tsdownsample-0.1.3 wurlitzer-3.1.1 xxhash-3.5.0\n"
          ]
        },
        {
          "output_type": "display_data",
          "data": {
            "application/vnd.colab-display-data+json": {
              "pip_warning": {
                "packages": [
                  "matplotlib",
                  "mpl_toolkits"
                ]
              },
              "id": "946d6598be3647a885346ade02fe9f7b"
            }
          },
          "metadata": {}
        }
      ],
      "source": [
        "!pip install pycaret"
      ]
    },
    {
      "cell_type": "code",
      "source": [
        "import pandas as pd\n",
        "import matplotlib.pyplot as plt\n",
        "from sklearn.datasets import load_iris\n",
        "from pycaret.clustering import setup, create_model, assign_model, evaluate_model\n",
        "from sklearn.metrics import silhouette_score"
      ],
      "metadata": {
        "id": "KieULpZ2YMps"
      },
      "execution_count": 1,
      "outputs": []
    },
    {
      "cell_type": "code",
      "source": [
        "iris = load_iris()\n",
        "df = pd.DataFrame(iris.data, columns=iris.feature_names)\n",
        "\n",
        "df = df[['sepal length (cm)', 'sepal width (cm)']]\n",
        "\n",
        "plt.scatter(df.iloc[:, 0], df.iloc[:, 1], c='blue', marker='o', s=30, alpha=0.7)\n",
        "plt.title('Iris Dataset (Two Features)')\n",
        "plt.xlabel('Sepal Length')\n",
        "plt.ylabel('Sepal Width')\n",
        "plt.grid()\n",
        "plt.show()"
      ],
      "metadata": {
        "colab": {
          "base_uri": "https://localhost:8080/",
          "height": 524
        },
        "id": "PQ-tvKUdYQZ6",
        "outputId": "cbaa995b-1a07-4b87-d0bf-9a1bb3fdf22f"
      },
      "execution_count": 2,
      "outputs": [
        {
          "output_type": "display_data",
          "data": {
            "text/plain": [
              "<Figure size 800x550 with 1 Axes>"
            ],
            "image/png": "[encoded data removed]"
          },
          "metadata": {}
        }
      ]
    },
    {
      "cell_type": "code",
      "source": [
        "clustering_setup = setup(data=df, normalize=True, session_id=42)"
      ],
      "metadata": {
        "colab": {
          "base_uri": "https://localhost:8080/",
          "height": 520
        },
        "id": "uT3sxuD2YU-R",
        "outputId": "43fcd8d8-3714-44d0-f549-98f5b84c867f"
      },
      "execution_count": 3,
      "outputs": [
        {
          "output_type": "display_data",
          "data": {
            "text/plain": [
              "<pandas.io.formats.style.Styler at 0x7c4c2e512b30>"
            ],
            "text/html": [
              "<style type=\"text/css\">\n",
              "#T_3403e_row4_col1, #T_3403e_row8_col1 {\n",
              "  background-color: lightgreen;\n",
              "}\n",
              "</style>\n",
              "<table id=\"T_3403e\" class=\"dataframe\">\n",
              "  <thead>\n",
              "    <tr>\n",
              "      <th class=\"blank level0\" >&nbsp;</th>\n",
              "      <th id=\"T_3403e_level0_col0\" class=\"col_heading level0 col0\" >Description</th>\n",
              "      <th id=\"T_3403e_level0_col1\" class=\"col_heading level0 col1\" >Value</th>\n",
              "    </tr>\n",
              "  </thead>\n",
              "  <tbody>\n",
              "    <tr>\n",
              "      <th id=\"T_3403e_level0_row0\" class=\"row_heading level0 row0\" >0</th>\n",
              "      <td id=\"T_3403e_row0_col0\" class=\"data row0 col0\" >Session id</td>\n",
              "      <td id=\"T_3403e_row0_col1\" class=\"data row0 col1\" >42</td>\n",
              "    </tr>\n",
              "    <tr>\n",
              "      <th id=\"T_3403e_level0_row1\" class=\"row_heading level0 row1\" >1</th>\n",
              "      <td id=\"T_3403e_row1_col0\" class=\"data row1 col0\" >Original data shape</td>\n",
              "      <td id=\"T_3403e_row1_col1\" class=\"data row1 col1\" >(150, 2)</td>\n",
              "    </tr>\n",
              "    <tr>\n",
              "      <th id=\"T_3403e_level0_row2\" class=\"row_heading level0 row2\" >2</th>\n",
              "      <td id=\"T_3403e_row2_col0\" class=\"data row2 col0\" >Transformed data shape</td>\n",
              "      <td id=\"T_3403e_row2_col1\" class=\"data row2 col1\" >(150, 2)</td>\n",
              "    </tr>\n",
              "    <tr>\n",
              "      <th id=\"T_3403e_level0_row3\" class=\"row_heading level0 row3\" >3</th>\n",
              "      <td id=\"T_3403e_row3_col0\" class=\"data row3 col0\" >Numeric features</td>\n",
              "      <td id=\"T_3403e_row3_col1\" class=\"data row3 col1\" >2</td>\n",
              "    </tr>\n",
              "    <tr>\n",
              "      <th id=\"T_3403e_level0_row4\" class=\"row_heading level0 row4\" >4</th>\n",
              "      <td id=\"T_3403e_row4_col0\" class=\"data row4 col0\" >Preprocess</td>\n",
              "      <td id=\"T_3403e_row4_col1\" class=\"data row4 col1\" >True</td>\n",
              "    </tr>\n",
              "    <tr>\n",
              "      <th id=\"T_3403e_level0_row5\" class=\"row_heading level0 row5\" >5</th>\n",
              "      <td id=\"T_3403e_row5_col0\" class=\"data row5 col0\" >Imputation type</td>\n",
              "      <td id=\"T_3403e_row5_col1\" class=\"data row5 col1\" >simple</td>\n",
              "    </tr>\n",
              "    <tr>\n",
              "      <th id=\"T_3403e_level0_row6\" class=\"row_heading level0 row6\" >6</th>\n",
              "      <td id=\"T_3403e_row6_col0\" class=\"data row6 col0\" >Numeric imputation</td>\n",
              "      <td id=\"T_3403e_row6_col1\" class=\"data row6 col1\" >mean</td>\n",
              "    </tr>\n",
              "    <tr>\n",
              "      <th id=\"T_3403e_level0_row7\" class=\"row_heading level0 row7\" >7</th>\n",
              "      <td id=\"T_3403e_row7_col0\" class=\"data row7 col0\" >Categorical imputation</td>\n",
              "      <td id=\"T_3403e_row7_col1\" class=\"data row7 col1\" >mode</td>\n",
              "    </tr>\n",
              "    <tr>\n",
              "      <th id=\"T_3403e_level0_row8\" class=\"row_heading level0 row8\" >8</th>\n",
              "      <td id=\"T_3403e_row8_col0\" class=\"data row8 col0\" >Normalize</td>\n",
              "      <td id=\"T_3403e_row8_col1\" class=\"data row8 col1\" >True</td>\n",
              "    </tr>\n",
              "    <tr>\n",
              "      <th id=\"T_3403e_level0_row9\" class=\"row_heading level0 row9\" >9</th>\n",
              "      <td id=\"T_3403e_row9_col0\" class=\"data row9 col0\" >Normalize method</td>\n",
              "      <td id=\"T_3403e_row9_col1\" class=\"data row9 col1\" >zscore</td>\n",
              "    </tr>\n",
              "    <tr>\n",
              "      <th id=\"T_3403e_level0_row10\" class=\"row_heading level0 row10\" >10</th>\n",
              "      <td id=\"T_3403e_row10_col0\" class=\"data row10 col0\" >CPU Jobs</td>\n",
              "      <td id=\"T_3403e_row10_col1\" class=\"data row10 col1\" >-1</td>\n",
              "    </tr>\n",
              "    <tr>\n",
              "      <th id=\"T_3403e_level0_row11\" class=\"row_heading level0 row11\" >11</th>\n",
              "      <td id=\"T_3403e_row11_col0\" class=\"data row11 col0\" >Use GPU</td>\n",
              "      <td id=\"T_3403e_row11_col1\" class=\"data row11 col1\" >False</td>\n",
              "    </tr>\n",
              "    <tr>\n",
              "      <th id=\"T_3403e_level0_row12\" class=\"row_heading level0 row12\" >12</th>\n",
              "      <td id=\"T_3403e_row12_col0\" class=\"data row12 col0\" >Log Experiment</td>\n",
              "      <td id=\"T_3403e_row12_col1\" class=\"data row12 col1\" >False</td>\n",
              "    </tr>\n",
              "    <tr>\n",
              "      <th id=\"T_3403e_level0_row13\" class=\"row_heading level0 row13\" >13</th>\n",
              "      <td id=\"T_3403e_row13_col0\" class=\"data row13 col0\" >Experiment Name</td>\n",
              "      <td id=\"T_3403e_row13_col1\" class=\"data row13 col1\" >cluster-default-name</td>\n",
              "    </tr>\n",
              "    <tr>\n",
              "      <th id=\"T_3403e_level0_row14\" class=\"row_heading level0 row14\" >14</th>\n",
              "      <td id=\"T_3403e_row14_col0\" class=\"data row14 col0\" >USI</td>\n",
              "      <td id=\"T_3403e_row14_col1\" class=\"data row14 col1\" >ee0a</td>\n",
              "    </tr>\n",
              "  </tbody>\n",
              "</table>\n"
            ]
          },
          "metadata": {}
        }
      ]
    },
    {
      "cell_type": "code",
      "source": [
        "dbscan_model = create_model('dbscan')\n",
        "dbscan_results = assign_model(dbscan_model)"
      ],
      "metadata": {
        "colab": {
          "base_uri": "https://localhost:8080/",
          "height": 81,
          "referenced_widgets": [
            "6a578864c5a84bf49336005882d34644",
            "ea5a1534116d44b183e88debf839c3c5",
            "5680307637574bc392209e5420eb9e5b",
            "5879d2e1a2e34c239a73c9cad148845f",
            "8fd912553d8d4ce184b1a6872ba01e02",
            "b82a6c3cf4014df889feebfef9063c05",
            "8ea877da4d3f4d508cf913d908ea4c0d",
            "1f0e15c445a24f7bae70fc6508e35a1d",
            "3d54bf4a80774ee9b0ce364d16674c49",
            "a9f2ba73e2cd452b8e450085de852948",
            "763d8ca634a748a4a81c591ec2ee0799"
          ]
        },
        "id": "YB2FdoIuYXhi",
        "outputId": "ebe1c56e-51a7-4e46-ae8f-b8adecc7c479"
      },
      "execution_count": 4,
      "outputs": [
        {
          "output_type": "display_data",
          "data": {
            "text/plain": [
              "<IPython.core.display.HTML object>"
            ],
            "text/html": []
          },
          "metadata": {}
        },
        {
          "output_type": "display_data",
          "data": {
            "text/plain": [
              "<pandas.io.formats.style.Styler at 0x7c4c2f3d0c10>"
            ],
            "text/html": [
              "<style type=\"text/css\">\n",
              "</style>\n",
              "<table id=\"T_c52cc\" class=\"dataframe\">\n",
              "  <thead>\n",
              "    <tr>\n",
              "      <th class=\"blank level0\" >&nbsp;</th>\n",
              "      <th id=\"T_c52cc_level0_col0\" class=\"col_heading level0 col0\" >Silhouette</th>\n",
              "      <th id=\"T_c52cc_level0_col1\" class=\"col_heading level0 col1\" >Calinski-Harabasz</th>\n",
              "      <th id=\"T_c52cc_level0_col2\" class=\"col_heading level0 col2\" >Davies-Bouldin</th>\n",
              "      <th id=\"T_c52cc_level0_col3\" class=\"col_heading level0 col3\" >Homogeneity</th>\n",
              "      <th id=\"T_c52cc_level0_col4\" class=\"col_heading level0 col4\" >Rand Index</th>\n",
              "      <th id=\"T_c52cc_level0_col5\" class=\"col_heading level0 col5\" >Completeness</th>\n",
              "    </tr>\n",
              "  </thead>\n",
              "  <tbody>\n",
              "    <tr>\n",
              "      <th id=\"T_c52cc_level0_row0\" class=\"row_heading level0 row0\" >0</th>\n",
              "      <td id=\"T_c52cc_row0_col0\" class=\"data row0 col0\" >0.3920</td>\n",
              "      <td id=\"T_c52cc_row0_col1\" class=\"data row0 col1\" >5.3858</td>\n",
              "      <td id=\"T_c52cc_row0_col2\" class=\"data row0 col2\" >2.9615</td>\n",
              "      <td id=\"T_c52cc_row0_col3\" class=\"data row0 col3\" >0</td>\n",
              "      <td id=\"T_c52cc_row0_col4\" class=\"data row0 col4\" >0</td>\n",
              "      <td id=\"T_c52cc_row0_col5\" class=\"data row0 col5\" >0</td>\n",
              "    </tr>\n",
              "  </tbody>\n",
              "</table>\n"
            ]
          },
          "metadata": {}
        },
        {
          "output_type": "display_data",
          "data": {
            "text/plain": [
              "Processing:   0%|          | 0/3 [00:00<?, ?it/s]"
            ],
            "application/vnd.jupyter.widget-view+json": {
              "version_major": 2,
              "version_minor": 0,
              "model_id": "6a578864c5a84bf49336005882d34644"
            }
          },
          "metadata": {
            "application/vnd.jupyter.widget-view+json": {
              "colab": {
                "custom_widget_manager": {
                  "url": "https://ssl.gstatic.com/colaboratory-static/widgets/colab-cdn-widget-manager/2b70e893a8ba7c0f/manager.min.js"
                }
              }
            }
          }
        },
        {
          "output_type": "display_data",
          "data": {
            "text/plain": [
              "<IPython.core.display.HTML object>"
            ],
            "text/html": []
          },
          "metadata": {}
        }
      ]
    },
    {
      "cell_type": "code",
      "source": [
        "dbscan_results['Cluster'] = dbscan_results['Cluster'].str.extract('(\\d+)').astype(float)\n",
        "\n",
        "\n",
        "plt.scatter(df.iloc[:, 0], df.iloc[:, 1], c=dbscan_results['Cluster'], cmap='viridis', marker='o', s=30, alpha=0.7)\n",
        "plt.title('DBSCAN Clustering Results (Iris Dataset)')\n",
        "plt.xlabel('Sepal Length')\n",
        "plt.ylabel('Sepal Width')\n",
        "plt.colorbar(label='Cluster')\n",
        "plt.grid()\n",
        "plt.show()"
      ],
      "metadata": {
        "colab": {
          "base_uri": "https://localhost:8080/",
          "height": 524
        },
        "id": "ZxgXU-adYZOj",
        "outputId": "9ac5572f-7171-48d5-f608-c005d4eac021"
      },
      "execution_count": 5,
      "outputs": [
        {
          "output_type": "display_data",
          "data": {
            "text/plain": [
              "<Figure size 800x550 with 2 Axes>"
            ],
            "image/png": "[encoded data removed]"
          },
          "metadata": {}
        }
      ]
    },
    {
      "cell_type": "code",
      "source": [
        "\n",
        "labels = dbscan_results['Cluster'].values\n",
        "valid_labels = labels[labels != -1]\n",
        "valid_points = df[labels != -1]\n",
        "if len(set(valid_labels)) > 1:\n",
        "    silhouette_avg = silhouette_score(valid_points, valid_labels)\n",
        "    print(f\"Silhouette Score (excluding noise): {silhouette_avg}\")\n",
        "else:\n",
        "    print(\"Not enough clusters for silhouette score.\")\n",
        "\n",
        "evaluate_model(dbscan_model)"
      ],
      "metadata": {
        "colab": {
          "base_uri": "https://localhost:8080/",
          "height": 204,
          "referenced_widgets": [
            "ac90c14a38534d0c931f45867c7ea271",
            "5704c334771642d997cf7d98efe91040",
            "d10733415da84360ae27f0a20c5086b4",
            "472dc6beced645f9b86adecf18c4a10c",
            "61ce8703ea894ea68e76c63b23896bda",
            "9e30ee03b3894bad96924f6399981916",
            "51d906727ca547f18bee1d2bce9c0953"
          ]
        },
        "id": "4bxpKYimYh34",
        "outputId": "829c2d0f-7575-4f17-d6c4-a797a859f87c"
      },
      "execution_count": 6,
      "outputs": [
        {
          "output_type": "stream",
          "name": "stdout",
          "text": [
            "Silhouette Score (excluding noise): 0.331967175240284\n"
          ]
        },
        {
          "output_type": "display_data",
          "data": {
            "text/plain": [
              "interactive(children=(ToggleButtons(description='Plot Type:', icons=('',), options=(('Pipeline Plot', 'pipelin…"
            ],
            "application/vnd.jupyter.widget-view+json": {
              "version_major": 2,
              "version_minor": 0,
              "model_id": "ac90c14a38534d0c931f45867c7ea271"
            }
          },
          "metadata": {
            "application/vnd.jupyter.widget-view+json": {
              "colab": {
                "custom_widget_manager": {
                  "url": "https://ssl.gstatic.com/colaboratory-static/widgets/colab-cdn-widget-manager/2b70e893a8ba7c0f/manager.min.js"
                }
              }
            }
          }
        }
      ]
    }
  ]
}