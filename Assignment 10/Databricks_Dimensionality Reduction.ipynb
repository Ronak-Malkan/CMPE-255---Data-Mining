{
 "cells": [
  {
   "cell_type": "code",
   "execution_count": 0,
   "metadata": {
    "application/vnd.databricks.v1+cell": {
     "cellMetadata": {
      "byteLimit": 2048000,
      "rowLimit": 10000
     },
     "inputWidgets": {},
     "nuid": "170d3585-ed73-4fcc-b9cc-a57b90a3c0fa",
     "showTitle": false,
     "tableResultSettingsMap": {},
     "title": ""
    }
   },
   "outputs": [
    {
     "output_type": "stream",
     "name": "stdout",
     "output_type": "stream",
     "text": [
      "Python interpreter will be restarted.\nRequirement already satisfied: numpy in /databricks/python3/lib/python3.9/site-packages (1.21.5)\nRequirement already satisfied: pandas in /databricks/python3/lib/python3.9/site-packages (1.4.2)\nRequirement already satisfied: matplotlib in /databricks/python3/lib/python3.9/site-packages (3.5.1)\nRequirement already satisfied: seaborn in /databricks/python3/lib/python3.9/site-packages (0.11.2)\nRequirement already satisfied: plotly in /databricks/python3/lib/python3.9/site-packages (5.6.0)\nCollecting sklearn\n  Downloading sklearn-0.0.post12.tar.gz (2.6 kB)\n    ERROR: Command errored out with exit status 1:\n     command: /local_disk0/.ephemeral_nfs/envs/pythonEnv-0d665e7a-f58e-487e-b7a1-daedcec6caa3/bin/python -c 'import io, os, sys, setuptools, tokenize; sys.argv[0] = '\"'\"'/tmp/pip-install-pti_4fhe/sklearn_3c5222bd15c34b6daf6ba04549df731c/setup.py'\"'\"'; __file__='\"'\"'/tmp/pip-install-pti_4fhe/sklearn_3c5222bd15c34b6daf6ba04549df731c/setup.py'\"'\"';f = getattr(tokenize, '\"'\"'open'\"'\"', open)(__file__) if os.path.exists(__file__) else io.StringIO('\"'\"'from setuptools import setup; setup()'\"'\"');code = f.read().replace('\"'\"'\\r\\n'\"'\"', '\"'\"'\\n'\"'\"');f.close();exec(compile(code, __file__, '\"'\"'exec'\"'\"'))' egg_info --egg-base /tmp/pip-pip-egg-info-proi_i58\n         cwd: /tmp/pip-install-pti_4fhe/sklearn_3c5222bd15c34b6daf6ba04549df731c/\n    Complete output (15 lines):\n    The 'sklearn' PyPI package is deprecated, use 'scikit-learn'\n    rather than 'sklearn' for pip commands.\n    \n    Here is how to fix this error in the main use cases:\n    - use 'pip install scikit-learn' rather than 'pip install sklearn'\n    - replace 'sklearn' by 'scikit-learn' in your pip requirements files\n      (requirements.txt, setup.py, setup.cfg, Pipfile, etc ...)\n    - if the 'sklearn' package is used by one of your dependencies,\n      it would be great if you take some time to track which package uses\n      'sklearn' instead of 'scikit-learn' and report it to their issue tracker\n    - as a last resort, set the environment variable\n      SKLEARN_ALLOW_DEPRECATED_SKLEARN_PACKAGE_INSTALL=True to avoid this error\n    \n    More information is available at\n    https://github.com/scikit-learn/sklearn-pypi-package\n    ----------------------------------------\nWARNING: Discarding https://files.pythonhosted.org/packages/46/1c/395a83ee7b2d2ad7a05b453872053d41449564477c81dc356f720b16eac4/sklearn-0.0.post12.tar.gz#sha256=54cff9e20839b7b202321178228af4d9388bedf78425d9299fd9ee170d68802e (from https://pypi.org/simple/sklearn/). Command errored out with exit status 1: python setup.py egg_info Check the logs for full command output.\n  Downloading sklearn-0.0.post11.tar.gz (3.6 kB)\n    ERROR: Command errored out with exit status 1:\n     command: /local_disk0/.ephemeral_nfs/envs/pythonEnv-0d665e7a-f58e-487e-b7a1-daedcec6caa3/bin/python -c 'import io, os, sys, setuptools, tokenize; sys.argv[0] = '\"'\"'/tmp/pip-install-pti_4fhe/sklearn_ec69a0cea92d436984329a6790291b93/setup.py'\"'\"'; __file__='\"'\"'/tmp/pip-install-pti_4fhe/sklearn_ec69a0cea92d436984329a6790291b93/setup.py'\"'\"';f = getattr(tokenize, '\"'\"'open'\"'\"', open)(__file__) if os.path.exists(__file__) else io.StringIO('\"'\"'from setuptools import setup; setup()'\"'\"');code = f.read().replace('\"'\"'\\r\\n'\"'\"', '\"'\"'\\n'\"'\"');f.close();exec(compile(code, __file__, '\"'\"'exec'\"'\"'))' egg_info --egg-base /tmp/pip-pip-egg-info-87rby4fl\n         cwd: /tmp/pip-install-pti_4fhe/sklearn_ec69a0cea92d436984329a6790291b93/\n    Complete output (18 lines):\n    The 'sklearn' PyPI package is deprecated, use 'scikit-learn'\n    rather than 'sklearn' for pip commands.\n    \n    Here is how to fix this error in the main use cases:\n    - use 'pip install scikit-learn' rather than 'pip install sklearn'\n    - replace 'sklearn' by 'scikit-learn' in your pip requirements files\n      (requirements.txt, setup.py, setup.cfg, Pipfile, etc ...)\n    - if the 'sklearn' package is used by one of your dependencies,\n      it would be great if you take some time to track which package uses\n      'sklearn' instead of 'scikit-learn' and report it to their issue tracker\n    - as a last resort, set the environment variable\n      SKLEARN_ALLOW_DEPRECATED_SKLEARN_PACKAGE_INSTALL=True to avoid this error\n    \n    More information is available at\n    https://github.com/scikit-learn/sklearn-pypi-package\n    \n    If the previous advice does not cover your use case, feel free to report it at\n    https://github.com/scikit-learn/sklearn-pypi-package/issues/new\n    ----------------------------------------\nWARNING: Discarding https://files.pythonhosted.org/packages/a4/0b/d1c703256cf293be77b7db44dbef62251fe02a97d0bef981f7120b0b0c0f/sklearn-0.0.post11.tar.gz#sha256=af035c4f0b970b7fc2d3856079aa1aa1032df3d7f65048a9d87114abf13c4629 (from https://pypi.org/simple/sklearn/). Command errored out with exit status 1: python setup.py egg_info Check the logs for full command output.\n  Downloading sklearn-0.0.post10.tar.gz (3.6 kB)\n    ERROR: Command errored out with exit status 1:\n     command: /local_disk0/.ephemeral_nfs/envs/pythonEnv-0d665e7a-f58e-487e-b7a1-daedcec6caa3/bin/python -c 'import io, os, sys, setuptools, tokenize; sys.argv[0] = '\"'\"'/tmp/pip-install-pti_4fhe/sklearn_dfc10f1bf24148728e102d1586b0bd1d/setup.py'\"'\"'; __file__='\"'\"'/tmp/pip-install-pti_4fhe/sklearn_dfc10f1bf24148728e102d1586b0bd1d/setup.py'\"'\"';f = getattr(tokenize, '\"'\"'open'\"'\"', open)(__file__) if os.path.exists(__file__) else io.StringIO('\"'\"'from setuptools import setup; setup()'\"'\"');code = f.read().replace('\"'\"'\\r\\n'\"'\"', '\"'\"'\\n'\"'\"');f.close();exec(compile(code, __file__, '\"'\"'exec'\"'\"'))' egg_info --egg-base /tmp/pip-pip-egg-info-clxqfztj\n         cwd: /tmp/pip-install-pti_4fhe/sklearn_dfc10f1bf24148728e102d1586b0bd1d/\n    Complete output (18 lines):\n    The 'sklearn' PyPI package is deprecated, use 'scikit-learn'\n    rather than 'sklearn' for pip commands.\n    \n    Here is how to fix this error in the main use cases:\n    - use 'pip install scikit-learn' rather than 'pip install sklearn'\n    - replace 'sklearn' by 'scikit-learn' in your pip requirements files\n      (requirements.txt, setup.py, setup.cfg, Pipfile, etc ...)\n    - if the 'sklearn' package is used by one of your dependencies,\n      it would be great if you take some time to track which package uses\n      'sklearn' instead of 'scikit-learn' and report it to their issue tracker\n    - as a last resort, set the environment variable\n      SKLEARN_ALLOW_DEPRECATED_SKLEARN_PACKAGE_INSTALL=True to avoid this error\n    \n    More information is available at\n    https://github.com/scikit-learn/sklearn-pypi-package\n    \n    If the previous advice does not cover your use case, feel free to report it at\n    https://github.com/scikit-learn/sklearn-pypi-package/issues/new\n    ----------------------------------------\nWARNING: Discarding https://files.pythonhosted.org/packages/b9/0e/b2a4cfaa9e12b9ca4c71507bc26d2c99d75de172c0088c9835a98cf146ff/sklearn-0.0.post10.tar.gz#sha256=d4cd5a2e64b3caaf82cd5e33c46884dfeec5ebf991710d9faeb4fe81cadb3ba6 (from https://pypi.org/simple/sklearn/). Command errored out with exit status 1: python setup.py egg_info Check the logs for full command output.\n  Downloading sklearn-0.0.post9.tar.gz (3.6 kB)\n    ERROR: Command errored out with exit status 1:\n     command: /local_disk0/.ephemeral_nfs/envs/pythonEnv-0d665e7a-f58e-487e-b7a1-daedcec6caa3/bin/python -c 'import io, os, sys, setuptools, tokenize; sys.argv[0] = '\"'\"'/tmp/pip-install-pti_4fhe/sklearn_64a12427efb147fb84daa6bd4ab5a523/setup.py'\"'\"'; __file__='\"'\"'/tmp/pip-install-pti_4fhe/sklearn_64a12427efb147fb84daa6bd4ab5a523/setup.py'\"'\"';f = getattr(tokenize, '\"'\"'open'\"'\"', open)(__file__) if os.path.exists(__file__) else io.StringIO('\"'\"'from setuptools import setup; setup()'\"'\"');code = f.read().replace('\"'\"'\\r\\n'\"'\"', '\"'\"'\\n'\"'\"');f.close();exec(compile(code, __file__, '\"'\"'exec'\"'\"'))' egg_info --egg-base /tmp/pip-pip-egg-info-wekgwnis\n         cwd: /tmp/pip-install-pti_4fhe/sklearn_64a12427efb147fb84daa6bd4ab5a523/\n    Complete output (18 lines):\n    The 'sklearn' PyPI package is deprecated, use 'scikit-learn'\n    rather than 'sklearn' for pip commands.\n    \n    Here is how to fix this error in the main use cases:\n    - use 'pip install scikit-learn' rather than 'pip install sklearn'\n    - replace 'sklearn' by 'scikit-learn' in your pip requirements files\n      (requirements.txt, setup.py, setup.cfg, Pipfile, etc ...)\n    - if the 'sklearn' package is used by one of your dependencies,\n      it would be great if you take some time to track which package uses\n      'sklearn' instead of 'scikit-learn' and report it to their issue tracker\n    - as a last resort, set the environment variable\n      SKLEARN_ALLOW_DEPRECATED_SKLEARN_PACKAGE_INSTALL=True to avoid this error\n    \n    More information is available at\n    https://github.com/scikit-learn/sklearn-pypi-package\n    \n    If the previous advice does not cover your use case, feel free to report it at\n    https://github.com/scikit-learn/sklearn-pypi-package/issues/new\n    ----------------------------------------\nWARNING: Discarding https://files.pythonhosted.org/packages/28/86/207a003339023247fef1bb5bc9f5093140d17294b2f6d15bfcd4885e469e/sklearn-0.0.post9.tar.gz#sha256=1ff5864cf30489ee48a014fe8f4320d7bb59592392a4ef52ae9d7a37942615ac (from https://pypi.org/simple/sklearn/). Command errored out with exit status 1: python setup.py egg_info Check the logs for full command output.\n  Downloading sklearn-0.0.post7.tar.gz (3.6 kB)\n    ERROR: Command errored out with exit status 1:\n     command: /local_disk0/.ephemeral_nfs/envs/pythonEnv-0d665e7a-f58e-487e-b7a1-daedcec6caa3/bin/python -c 'import io, os, sys, setuptools, tokenize; sys.argv[0] = '\"'\"'/tmp/pip-install-pti_4fhe/sklearn_ff017655805a4d2aab50fa9ecd016589/setup.py'\"'\"'; __file__='\"'\"'/tmp/pip-install-pti_4fhe/sklearn_ff017655805a4d2aab50fa9ecd016589/setup.py'\"'\"';f = getattr(tokenize, '\"'\"'open'\"'\"', open)(__file__) if os.path.exists(__file__) else io.StringIO('\"'\"'from setuptools import setup; setup()'\"'\"');code = f.read().replace('\"'\"'\\r\\n'\"'\"', '\"'\"'\\n'\"'\"');f.close();exec(compile(code, __file__, '\"'\"'exec'\"'\"'))' egg_info --egg-base /tmp/pip-pip-egg-info-xxzyocgk\n         cwd: /tmp/pip-install-pti_4fhe/sklearn_ff017655805a4d2aab50fa9ecd016589/\n    Complete output (18 lines):\n    The 'sklearn' PyPI package is deprecated, use 'scikit-learn'\n    rather than 'sklearn' for pip commands.\n    \n    Here is how to fix this error in the main use cases:\n    - use 'pip install scikit-learn' rather than 'pip install sklearn'\n    - replace 'sklearn' by 'scikit-learn' in your pip requirements files\n      (requirements.txt, setup.py, setup.cfg, Pipfile, etc ...)\n    - if the 'sklearn' package is used by one of your dependencies,\n      it would be great if you take some time to track which package uses\n      'sklearn' instead of 'scikit-learn' and report it to their issue tracker\n    - as a last resort, set the environment variable\n      SKLEARN_ALLOW_DEPRECATED_SKLEARN_PACKAGE_INSTALL=True to avoid this error\n    \n    More information is available at\n    https://github.com/scikit-learn/sklearn-pypi-package\n    \n    If the previous advice does not cover your use case, feel free to report it at\n    https://github.com/scikit-learn/sklearn-pypi-package/issues/new\n    ----------------------------------------\nWARNING: Discarding https://files.pythonhosted.org/packages/70/ce/81aa643f3c43488c4a1e417e45f696a61e7ac82b57190fad3c310df2c07b/sklearn-0.0.post7.tar.gz#sha256=1c89020b364fdc3aa2839e0ae34e8f0b406669e4b5c2359dda3ac398f9c76874 (from https://pypi.org/simple/sklearn/). Command errored out with exit status 1: python setup.py egg_info Check the logs for full command output.\n  Downloading sklearn-0.0.post5.tar.gz (3.7 kB)\n    ERROR: Command errored out with exit status 1:\n     command: /local_disk0/.ephemeral_nfs/envs/pythonEnv-0d665e7a-f58e-487e-b7a1-daedcec6caa3/bin/python -c 'import io, os, sys, setuptools, tokenize; sys.argv[0] = '\"'\"'/tmp/pip-install-pti_4fhe/sklearn_b127324390914b2aa79116432732f43f/setup.py'\"'\"'; __file__='\"'\"'/tmp/pip-install-pti_4fhe/sklearn_b127324390914b2aa79116432732f43f/setup.py'\"'\"';f = getattr(tokenize, '\"'\"'open'\"'\"', open)(__file__) if os.path.exists(__file__) else io.StringIO('\"'\"'from setuptools import setup; setup()'\"'\"');code = f.read().replace('\"'\"'\\r\\n'\"'\"', '\"'\"'\\n'\"'\"');f.close();exec(compile(code, __file__, '\"'\"'exec'\"'\"'))' egg_info --egg-base /tmp/pip-pip-egg-info-bzwf9k4a\n         cwd: /tmp/pip-install-pti_4fhe/sklearn_b127324390914b2aa79116432732f43f/\n    Complete output (18 lines):\n    The 'sklearn' PyPI package is deprecated, use 'scikit-learn'\n    rather than 'sklearn' for pip commands.\n    \n    Here is how to fix this error in the main use cases:\n    - use 'pip install scikit-learn' rather than 'pip install sklearn'\n    - replace 'sklearn' by 'scikit-learn' in your pip requirements files\n      (requirements.txt, setup.py, setup.cfg, Pipfile, etc ...)\n    - if the 'sklearn' package is used by one of your dependencies,\n      it would be great if you take some time to track which package uses\n      'sklearn' instead of 'scikit-learn' and report it to their issue tracker\n    - as a last resort, set the environment variable\n      SKLEARN_ALLOW_DEPRECATED_SKLEARN_PACKAGE_INSTALL=True to avoid this error\n    \n    More information is available at\n    https://github.com/scikit-learn/sklearn-pypi-package\n    \n    If the previous advice does not cover your use case, feel free to report it at\n    https://github.com/scikit-learn/sklearn-pypi-package/issues/new\n    ----------------------------------------\nWARNING: Discarding https://files.pythonhosted.org/packages/7a/93/e0e1b1e98f39dfca7ec9795cb46f6e09e88a2fd5d4a28e4b3d1f618a2aec/sklearn-0.0.post5.tar.gz#sha256=7377c714a03a79bbe9196f435db931fd2a6fa8c68514da7ed3a251fd08c52e2c (from https://pypi.org/simple/sklearn/). Command errored out with exit status 1: python setup.py egg_info Check the logs for full command output.\n  Downloading sklearn-0.0.post4.tar.gz (3.6 kB)\n    ERROR: Command errored out with exit status 1:\n     command: /local_disk0/.ephemeral_nfs/envs/pythonEnv-0d665e7a-f58e-487e-b7a1-daedcec6caa3/bin/python -c 'import io, os, sys, setuptools, tokenize; sys.argv[0] = '\"'\"'/tmp/pip-install-pti_4fhe/sklearn_502b22e74d3c4894a22a79d7d6e17e4b/setup.py'\"'\"'; __file__='\"'\"'/tmp/pip-install-pti_4fhe/sklearn_502b22e74d3c4894a22a79d7d6e17e4b/setup.py'\"'\"';f = getattr(tokenize, '\"'\"'open'\"'\"', open)(__file__) if os.path.exists(__file__) else io.StringIO('\"'\"'from setuptools import setup; setup()'\"'\"');code = f.read().replace('\"'\"'\\r\\n'\"'\"', '\"'\"'\\n'\"'\"');f.close();exec(compile(code, __file__, '\"'\"'exec'\"'\"'))' egg_info --egg-base /tmp/pip-pip-egg-info-dkrej85r\n         cwd: /tmp/pip-install-pti_4fhe/sklearn_502b22e74d3c4894a22a79d7d6e17e4b/\n    Complete output (18 lines):\n    The 'sklearn' PyPI package is deprecated, use 'scikit-learn'\n    rather than 'sklearn' for pip commands.\n    \n    Here is how to fix this error in the main use cases:\n    - use 'pip install scikit-learn' rather than 'pip install sklearn'\n    - replace 'sklearn' by 'scikit-learn' in your pip requirements files\n      (requirements.txt, setup.py, setup.cfg, Pipfile, etc ...)\n    - if the 'sklearn' package is used by one of your dependencies,\n      it would be great if you take some time to track which package uses\n      'sklearn' instead of 'scikit-learn' and report it to their issue tracker\n    - as a last resort, set the environment variable\n      SKLEARN_ALLOW_DEPRECATED_SKLEARN_PACKAGE_INSTALL=True to avoid this error\n    \n    More information is available at\n    https://github.com/scikit-learn/sklearn-pypi-package\n    \n    If the previous advice does not cover your use case, feel free to report it at\n    https://github.com/scikit-learn/sklearn-pypi-package/issues/new\n    ----------------------------------------\nWARNING: Discarding https://files.pythonhosted.org/packages/99/b2/165110013aa66fae6fc13918ad0e9de4801e5f1691d371bf8b63328037e6/sklearn-0.0.post4.tar.gz#sha256=0e81ec9c32d4bb418e7be8f1ec1027d174975502dc84cbc4f4564b4cba31e674 (from https://pypi.org/simple/sklearn/). Command errored out with exit status 1: python setup.py egg_info Check the logs for full command output.\n  Downloading sklearn-0.0.post1.tar.gz (3.6 kB)\n    ERROR: Command errored out with exit status 1:\n     command: /local_disk0/.ephemeral_nfs/envs/pythonEnv-0d665e7a-f58e-487e-b7a1-daedcec6caa3/bin/python -c 'import io, os, sys, setuptools, tokenize; sys.argv[0] = '\"'\"'/tmp/pip-install-pti_4fhe/sklearn_663f5c7407c0442b9ed5c020a2f41dba/setup.py'\"'\"'; __file__='\"'\"'/tmp/pip-install-pti_4fhe/sklearn_663f5c7407c0442b9ed5c020a2f41dba/setup.py'\"'\"';f = getattr(tokenize, '\"'\"'open'\"'\"', open)(__file__) if os.path.exists(__file__) else io.StringIO('\"'\"'from setuptools import setup; setup()'\"'\"');code = f.read().replace('\"'\"'\\r\\n'\"'\"', '\"'\"'\\n'\"'\"');f.close();exec(compile(code, __file__, '\"'\"'exec'\"'\"'))' egg_info --egg-base /tmp/pip-pip-egg-info-m5xuibvx\n         cwd: /tmp/pip-install-pti_4fhe/sklearn_663f5c7407c0442b9ed5c020a2f41dba/\n    Complete output (18 lines):\n    The 'sklearn' PyPI package is deprecated, use 'scikit-learn'\n    rather than 'sklearn' for pip commands.\n    \n    Here is how to fix this error in the main use cases:\n    - use 'pip install scikit-learn' rather than 'pip install sklearn'\n    - replace 'sklearn' by 'scikit-learn' in your pip requirements files\n      (requirements.txt, setup.py, setup.cfg, Pipfile, etc ...)\n    - if the 'sklearn' package is used by one of your dependencies,\n      it would be great if you take some time to track which package uses\n      'sklearn' instead of 'scikit-learn' and report it to their issue tracker\n    - as a last resort, set the environment variable\n      SKLEARN_ALLOW_DEPRECATED_SKLEARN_PACKAGE_INSTALL=True to avoid this error\n    \n    More information is available at\n    https://github.com/scikit-learn/sklearn-pypi-package\n    \n    If the previous advice does not cover your use case, feel free to report it at\n    https://github.com/scikit-learn/sklearn-pypi-package/issues/new\n    ----------------------------------------\nWARNING: Discarding https://files.pythonhosted.org/packages/db/1e/af4e9cded5093a92e60d4ae7149a02c7427661b2db66c8ea4d34b17864a2/sklearn-0.0.post1.tar.gz#sha256=76b9ed1623775168657b86b5fe966d45752e5c87f528de6240c38923b94147c5 (from https://pypi.org/simple/sklearn/). Command errored out with exit status 1: python setup.py egg_info Check the logs for full command output.\n  Downloading sklearn-0.0.tar.gz (1.1 kB)\nCollecting umap-learn\n  Downloading umap_learn-0.5.7-py3-none-any.whl (88 kB)\nRequirement already satisfied: python-dateutil>=2.8.1 in /databricks/python3/lib/python3.9/site-packages (from pandas) (2.8.2)\nRequirement already satisfied: pytz>=2020.1 in /databricks/python3/lib/python3.9/site-packages (from pandas) (2021.3)\nRequirement already satisfied: pyparsing>=2.2.1 in /databricks/python3/lib/python3.9/site-packages (from matplotlib) (3.0.4)\nRequirement already satisfied: packaging>=20.0 in /databricks/python3/lib/python3.9/site-packages (from matplotlib) (21.3)\nRequirement already satisfied: cycler>=0.10 in /databricks/python3/lib/python3.9/site-packages (from matplotlib) (0.11.0)\nRequirement already satisfied: kiwisolver>=1.0.1 in /databricks/python3/lib/python3.9/site-packages (from matplotlib) (1.3.2)\nRequirement already satisfied: pillow>=6.2.0 in /databricks/python3/lib/python3.9/site-packages (from matplotlib) (9.0.1)\nRequirement already satisfied: fonttools>=4.22.0 in /databricks/python3/lib/python3.9/site-packages (from matplotlib) (4.25.0)\nRequirement already satisfied: scipy>=1.0 in /databricks/python3/lib/python3.9/site-packages (from seaborn) (1.7.3)\nRequirement already satisfied: six in /databricks/python3/lib/python3.9/site-packages (from plotly) (1.16.0)\nRequirement already satisfied: tenacity>=6.2.0 in /databricks/python3/lib/python3.9/site-packages (from plotly) (8.0.1)\nRequirement already satisfied: scikit-learn in /databricks/python3/lib/python3.9/site-packages (from sklearn) (1.0.2)\nCollecting pynndescent>=0.5\n  Downloading pynndescent-0.5.13-py3-none-any.whl (56 kB)\nCollecting tqdm\n  Downloading tqdm-4.67.1-py3-none-any.whl (78 kB)\nCollecting numba>=0.51.2\n  Downloading numba-0.60.0-cp39-cp39-manylinux2014_x86_64.manylinux_2_17_x86_64.whl (3.7 MB)\nCollecting numpy\n  Downloading numpy-2.0.2-cp39-cp39-manylinux_2_17_x86_64.manylinux2014_x86_64.whl (19.5 MB)\nCollecting llvmlite<0.44,>=0.43.0dev0\n  Downloading llvmlite-0.43.0-cp39-cp39-manylinux_2_17_x86_64.manylinux2014_x86_64.whl (43.9 MB)\nRequirement already satisfied: joblib>=0.11 in /databricks/python3/lib/python3.9/site-packages (from pynndescent>=0.5->umap-learn) (1.1.1)\nRequirement already satisfied: threadpoolctl>=2.0.0 in /databricks/python3/lib/python3.9/site-packages (from scikit-learn->sklearn) (2.2.0)\nCollecting numpy\n  Downloading numpy-1.22.4-cp39-cp39-manylinux_2_17_x86_64.manylinux2014_x86_64.whl (16.8 MB)\nBuilding wheels for collected packages: sklearn\n  Building wheel for sklearn (setup.py): started\n  Building wheel for sklearn (setup.py): finished with status 'done'\n  Created wheel for sklearn: filename=sklearn-0.0-py2.py3-none-any.whl size=1309 sha256=518a7763b5cf22d855aac0fe89becc7aa35f97889d9c17df70ca8accd3e1b083\n  Stored in directory: /root/.cache/pip/wheels/e4/7b/98/b6466d71b8d738a0c547008b9eb39bf8676d1ff6ca4b22af1c\nSuccessfully built sklearn\nInstalling collected packages: numpy, llvmlite, numba, tqdm, pynndescent, umap-learn, sklearn\n  Attempting uninstall: numpy\n    Found existing installation: numpy 1.21.5\n    Not uninstalling numpy at /databricks/python3/lib/python3.9/site-packages, outside environment /local_disk0/.ephemeral_nfs/envs/pythonEnv-0d665e7a-f58e-487e-b7a1-daedcec6caa3\n    Can't uninstall 'numpy'. No files were found to uninstall.\nSuccessfully installed llvmlite-0.43.0 numba-0.60.0 numpy-1.22.4 pynndescent-0.5.13 sklearn-0.0 tqdm-4.67.1 umap-learn-0.5.7\nPython interpreter will be restarted.\n"
     ]
    }
   ],
   "source": [
    "%pip install numpy pandas matplotlib seaborn plotly sklearn umap-learn"
   ]
  },
  {
   "cell_type": "code",
   "execution_count": 0,
   "metadata": {
    "application/vnd.databricks.v1+cell": {
     "cellMetadata": {
      "byteLimit": 2048000,
      "rowLimit": 10000
     },
     "inputWidgets": {},
     "nuid": "bd512363-d997-4ea3-a888-eb45c775edb3",
     "showTitle": false,
     "tableResultSettingsMap": {},
     "title": ""
    }
   },
   "outputs": [
    {
     "output_type": "stream",
     "name": "stdout",
     "output_type": "stream",
     "text": [
      "+-----------------------------------------+\n|pcaFeatures                              |\n+-----------------------------------------+\n|[-2.818239506639468,-5.646349823412795]  |\n|[-2.788223445314679,-5.149951351762914]  |\n|[-2.613374563549708,-5.182003150742135]  |\n|[-2.7570222769675943,-5.008653597575778] |\n|[-2.7736485960544743,-5.653707089762613] |\n|[-3.221505499764512,-6.068283025890608]  |\n|[-2.6818273818683958,-5.2374911922991245]|\n|[-2.8762201594623713,-5.490337536526022] |\n|[-2.615982400828451,-4.74864082264099]   |\n|[-2.82960933478805,-5.213178330953577]   |\n|[-2.9954180419571483,-5.972021475476267] |\n|[-2.8896099017002816,-5.341682515989067] |\n|[-2.716255866420987,-5.091840576625976]  |\n|[-2.278561388743352,-4.815557989821311]  |\n|[-2.8576147426669745,-6.505717213265269] |\n|[-3.1163260990778707,-6.665014907228345] |\n|[-2.878837257384578,-6.137632091008951]  |\n|[-2.8540684263546225,-5.638801721421048] |\n|[-3.3025448089914238,-6.199791615789905] |\n|[-2.9143787327302357,-5.84051288557697]  |\n+-----------------------------------------+\nonly showing top 20 rows\n\n"
     ]
    }
   ],
   "source": [
    "from sklearn import datasets\n",
    "import pandas as pd\n",
    "\n",
    "# Load Iris Dataset\n",
    "iris = datasets.load_iris()\n",
    "iris_df = pd.DataFrame(data=iris.data, columns=iris.feature_names)\n",
    "iris_df['target'] = iris.target\n",
    "\n",
    "# Convert pandas DataFrame to Spark DataFrame\n",
    "iris_sdf = spark.createDataFrame(iris_df)\n",
    "\n",
    "from pyspark.ml.feature import PCA, VectorAssembler\n",
    "\n",
    "# Vectorizing features\n",
    "# Ensure you convert the column index to a list of strings\n",
    "input_columns = [col for col in iris_df.columns[:-1]]  # Exclude 'target' from features\n",
    "assembler = VectorAssembler(inputCols=input_columns, outputCol=\"features\")\n",
    "iris_features = assembler.transform(iris_sdf)\n",
    "\n",
    "# PCA\n",
    "pca = PCA(k=2, inputCol=\"features\", outputCol=\"pcaFeatures\")\n",
    "model = pca.fit(iris_features)\n",
    "result = model.transform(iris_features).select(\"pcaFeatures\")\n",
    "result.show(truncate=False)\n"
   ]
  },
  {
   "cell_type": "code",
   "execution_count": 0,
   "metadata": {
    "application/vnd.databricks.v1+cell": {
     "cellMetadata": {
      "byteLimit": 2048000,
      "rowLimit": 10000
     },
     "inputWidgets": {},
     "nuid": "44ed01e0-f7df-467c-9d1a-7009d343d07c",
     "showTitle": false,
     "tableResultSettingsMap": {},
     "title": ""
    }
   },
   "outputs": [
    {
     "output_type": "display_data",
     "data": {
      "text/html": [
       "<style scoped>\n",
       "  .table-result-container {\n",
       "    max-height: 300px;\n",
       "    overflow: auto;\n",
       "  }\n",
       "  table, th, td {\n",
       "    border: 1px solid black;\n",
       "    border-collapse: collapse;\n",
       "  }\n",
       "  th, td {\n",
       "    padding: 5px;\n",
       "  }\n",
       "  th {\n",
       "    text-align: left;\n",
       "  }\n",
       "</style><div class='table-result-container'><table class='table-result'><thead style='background-color: white'><tr><th>pcaFeatures</th></tr></thead><tbody><tr><td>Map(vectorType -> dense, length -> 2, values -> List(-2.818239506639468, -5.646349823412795))</td></tr><tr><td>Map(vectorType -> dense, length -> 2, values -> List(-2.788223445314679, -5.149951351762914))</td></tr><tr><td>Map(vectorType -> dense, length -> 2, values -> List(-2.613374563549708, -5.182003150742135))</td></tr><tr><td>Map(vectorType -> dense, length -> 2, values -> List(-2.7570222769675943, -5.008653597575778))</td></tr><tr><td>Map(vectorType -> dense, length -> 2, values -> List(-2.7736485960544743, -5.653707089762613))</td></tr><tr><td>Map(vectorType -> dense, length -> 2, values -> List(-3.221505499764512, -6.068283025890608))</td></tr><tr><td>Map(vectorType -> dense, length -> 2, values -> List(-2.6818273818683958, -5.2374911922991245))</td></tr><tr><td>Map(vectorType -> dense, length -> 2, values -> List(-2.8762201594623713, -5.490337536526022))</td></tr><tr><td>Map(vectorType -> dense, length -> 2, values -> List(-2.615982400828451, -4.74864082264099))</td></tr><tr><td>Map(vectorType -> dense, length -> 2, values -> List(-2.82960933478805, -5.213178330953577))</td></tr><tr><td>Map(vectorType -> dense, length -> 2, values -> List(-2.9954180419571483, -5.972021475476267))</td></tr><tr><td>Map(vectorType -> dense, length -> 2, values -> List(-2.8896099017002816, -5.341682515989067))</td></tr><tr><td>Map(vectorType -> dense, length -> 2, values -> List(-2.716255866420987, -5.091840576625976))</td></tr><tr><td>Map(vectorType -> dense, length -> 2, values -> List(-2.278561388743352, -4.815557989821311))</td></tr><tr><td>Map(vectorType -> dense, length -> 2, values -> List(-2.8576147426669745, -6.505717213265269))</td></tr><tr><td>Map(vectorType -> dense, length -> 2, values -> List(-3.1163260990778707, -6.665014907228345))</td></tr><tr><td>Map(vectorType -> dense, length -> 2, values -> List(-2.878837257384578, -6.137632091008951))</td></tr><tr><td>Map(vectorType -> dense, length -> 2, values -> List(-2.8540684263546225, -5.638801721421048))</td></tr><tr><td>Map(vectorType -> dense, length -> 2, values -> List(-3.3025448089914238, -6.199791615789905))</td></tr><tr><td>Map(vectorType -> dense, length -> 2, values -> List(-2.9143787327302357, -5.84051288557697))</td></tr><tr><td>Map(vectorType -> dense, length -> 2, values -> List(-3.192108917366486, -5.718298512481588))</td></tr><tr><td>Map(vectorType -> dense, length -> 2, values -> List(-2.9586599038518475, -5.759948640106721))</td></tr><tr><td>Map(vectorType -> dense, length -> 2, values -> List(-2.2864257169603928, -5.460420646366218))</td></tr><tr><td>Map(vectorType -> dense, length -> 2, values -> List(-3.199631950382797, -5.425661431641793))</td></tr><tr><td>Map(vectorType -> dense, length -> 2, values -> List(-3.1466110834852317, -5.28967071715031))</td></tr><tr><td>Map(vectorType -> dense, length -> 2, values -> List(-2.995696225683183, -5.180935696332426))</td></tr><tr><td>Map(vectorType -> dense, length -> 2, values -> List(-3.0335450594876656, -5.457904066262943))</td></tr><tr><td>Map(vectorType -> dense, length -> 2, values -> List(-2.9400452264129884, -5.694671434261894))</td></tr><tr><td>Map(vectorType -> dense, length -> 2, values -> List(-2.862830417224462, -5.638992557062976))</td></tr><tr><td>Map(vectorType -> dense, length -> 2, values -> List(-2.8703757453346586, -5.129991351903378))</td></tr><tr><td>Map(vectorType -> dense, length -> 2, values -> List(-2.914966655919652, -5.12263408555356))</td></tr><tr><td>Map(vectorType -> dense, length -> 2, values -> List(-3.092432635606829, -5.7378768410572665))</td></tr><tr><td>Map(vectorType -> dense, length -> 2, values -> List(-2.853502798259092, -6.140316397124655))</td></tr><tr><td>Map(vectorType -> dense, length -> 2, values -> List(-2.903628383508417, -6.42009833627705))</td></tr><tr><td>Map(vectorType -> dense, length -> 2, values -> List(-2.8654382545032053, -5.20563022896183))</td></tr><tr><td>Map(vectorType -> dense, length -> 2, values -> List(-2.6361234804903346, -5.396317048407774))</td></tr><tr><td>Map(vectorType -> dense, length -> 2, values -> List(-2.8771270827586317, -5.9263225982071175))</td></tr><tr><td>Map(vectorType -> dense, length -> 2, values -> List(-2.7016810171607823, -5.595596314625675))</td></tr><tr><td>Map(vectorType -> dense, length -> 2, values -> List(-2.5218630888270113, -4.838994232399077))</td></tr><tr><td>Map(vectorType -> dense, length -> 2, values -> List(-2.912358818640908, -5.5559964136547055))</td></tr><tr><td>Map(vectorType -> dense, length -> 2, values -> List(-2.7322627065811025, -5.590480110571949))</td></tr><tr><td>Map(vectorType -> dense, length -> 2, values -> List(-2.6529964275659013, -4.385992003186497))</td></tr><tr><td>Map(vectorType -> dense, length -> 2, values -> List(-2.5049585860140975, -4.985026519356083))</td></tr><tr><td>Map(vectorType -> dense, length -> 2, values -> List(-3.0967506475115187, -5.515824005757953))</td></tr><tr><td>Map(vectorType -> dense, length -> 2, values -> List(-3.2928758948253245, -5.763615718466881))</td></tr><tr><td>Map(vectorType -> dense, length -> 2, values -> List(-2.787913705851297, -5.076744372642483))</td></tr><tr><td>Map(vectorType -> dense, length -> 2, values -> List(-2.9642168736100643, -5.8307237212891305))</td></tr><tr><td>Map(vectorType -> dense, length -> 2, values -> List(-2.6629029649661544, -5.099007007333865))</td></tr><tr><td>Map(vectorType -> dense, length -> 2, values -> List(-2.9592793827786115, -5.906362598347583))</td></tr><tr><td>Map(vectorType -> dense, length -> 2, values -> List(-2.7990053502738452, -5.434658659327106))</td></tr><tr><td>Map(vectorType -> dense, length -> 2, values -> List(-6.787190821467355, -6.012113047295003))</td></tr><tr><td>Map(vectorType -> dense, length -> 2, values -> List(-6.434853664921323, -5.645286215090321))</td></tr><tr><td>Map(vectorType -> dense, length -> 2, values -> List(-6.966667454600398, -5.831215392136898))</td></tr><tr><td>Map(vectorType -> dense, length -> 2, values -> List(-5.685682852567375, -4.498993565007062))</td></tr><tr><td>Map(vectorType -> dense, length -> 2, values -> List(-6.5904683903206704, -5.4015432520254105))</td></tr><tr><td>Map(vectorType -> dense, length -> 2, values -> List(-6.144034216867082, -4.908705705259015))</td></tr><tr><td>Map(vectorType -> dense, length -> 2, values -> List(-6.597425795241451, -5.610420846889221))</td></tr><tr><td>Map(vectorType -> dense, length -> 2, values -> List(-4.7532424627793475, -4.322061615645798))</td></tr><tr><td>Map(vectorType -> dense, length -> 2, values -> List(-6.5464969586624395, -5.55531447661609))</td></tr><tr><td>Map(vectorType -> dense, length -> 2, values -> List(-5.493619728526109, -4.603870671822858))</td></tr><tr><td>Map(vectorType -> dense, length -> 2, values -> List(-4.994524248773678, -4.0609813863013))</td></tr><tr><td>Map(vectorType -> dense, length -> 2, values -> List(-6.014063690056601, -5.222971341328653))</td></tr><tr><td>Map(vectorType -> dense, length -> 2, values -> List(-5.7673416407210505, -4.7769161131472195))</td></tr><tr><td>Map(vectorType -> dense, length -> 2, values -> List(-6.487299643079894, -5.202134722701336))</td></tr><tr><td>Map(vectorType -> dense, length -> 2, values -> List(-5.328439760927237, -5.072098368125104))</td></tr><tr><td>Map(vectorType -> dense, length -> 2, values -> List(-6.430225913553252, -5.794132071269205))</td></tr><tr><td>Map(vectorType -> dense, length -> 2, values -> List(-6.162648894305941, -4.9739829111038425))</td></tr><tr><td>Map(vectorType -> dense, length -> 2, values -> List(-5.738470125926676, -4.993341810002779))</td></tr><tr><td>Map(vectorType -> dense, length -> 2, values -> List(-6.4470988606288175, -4.783807026047928))</td></tr><tr><td>Map(vectorType -> dense, length -> 2, values -> List(-5.547592108907705, -4.74311819935583))</td></tr><tr><td>Map(vectorType -> dense, length -> 2, values -> List(-6.618648309959054, -5.242335724632904))</td></tr><tr><td>Map(vectorType -> dense, length -> 2, values -> List(-5.860253550606312, -5.2580275451716805))</td></tr><tr><td>Map(vectorType -> dense, length -> 2, values -> List(-6.800549007967918, -4.999165268493776))</td></tr><tr><td>Map(vectorType -> dense, length -> 2, values -> List(-6.424094055056041, -5.144214783206326))</td></tr><tr><td>Map(vectorType -> dense, length -> 2, values -> List(-6.217218458520416, -5.476008521197478))</td></tr><tr><td>Map(vectorType -> dense, length -> 2, values -> List(-6.402539505781171, -5.655457050662017))</td></tr><tr><td>Map(vectorType -> dense, length -> 2, values -> List(-6.834389569331092, -5.571393452844038))</td></tr><tr><td>Map(vectorType -> dense, length -> 2, values -> List(-7.060167287675074, -5.594448024137948))</td></tr><tr><td>Map(vectorType -> dense, length -> 2, values -> List(-6.315655782426546, -5.163602276140077))</td></tr><tr><td>Map(vectorType -> dense, length -> 2, values -> List(-5.196781354584695, -4.958690387073107))</td></tr><tr><td>Map(vectorType -> dense, length -> 2, values -> List(-5.434238640540641, -4.621780445028229))</td></tr><tr><td>Map(vectorType -> dense, length -> 2, values -> List(-5.312742660230502, -4.6466658132995615))</td></tr><tr><td>Map(vectorType -> dense, length -> 2, values -> List(-5.63879384416702, -5.0129201385784565))</td></tr><tr><td>Map(vectorType -> dense, length -> 2, values -> List(-6.882391568524516, -4.905998289513811))</td></tr><tr><td>Map(vectorType -> dense, length -> 2, values -> List(-6.0903715759488675, -4.842665156846474))</td></tr><tr><td>Map(vectorType -> dense, length -> 2, values -> List(-6.309223445109416, -5.521134891540843))</td></tr><tr><td>Map(vectorType -> dense, length -> 2, values -> List(-6.7230560150533565, -5.734572170438701))</td></tr><tr><td>Map(vectorType -> dense, length -> 2, values -> List(-6.317460368375604, -4.954915516918193))</td></tr><tr><td>Map(vectorType -> dense, length -> 2, values -> List(-5.748322812495696, -5.058428180205678))</td></tr><tr><td>Map(vectorType -> dense, length -> 2, values -> List(-5.6687783497544615, -4.645025851964068))</td></tr><tr><td>Map(vectorType -> dense, length -> 2, values -> List(-5.967165421012783, -4.6562410323159735))</td></tr><tr><td>Map(vectorType -> dense, length -> 2, values -> List(-6.393180331078454, -5.292488132459424))</td></tr><tr><td>Map(vectorType -> dense, length -> 2, values -> List(-5.732913156168459, -4.922566728820368))</td></tr><tr><td>Map(vectorType -> dense, length -> 2, values -> List(-4.797833373364341, -4.31470434929598))</td></tr><tr><td>Map(vectorType -> dense, length -> 2, values -> List(-5.859346627310051, -4.822042483490584))</td></tr><tr><td>Map(vectorType -> dense, length -> 2, values -> List(-5.834299612554062, -5.1142978930465235))</td></tr><tr><td>Map(vectorType -> dense, length -> 2, values -> List(-5.878580783675675, -5.033733647576274))</td></tr><tr><td>Map(vectorType -> dense, length -> 2, values -> List(-6.1449411401633425, -5.34469076694011))</td></tr><tr><td>Map(vectorType -> dense, length -> 2, values -> List(-4.595895267660169, -4.570859210228679))</td></tr><tr><td>Map(vectorType -> dense, length -> 2, values -> List(-5.8013659744871475, -4.978054770377358))</td></tr><tr><td>Map(vectorType -> dense, length -> 2, values -> List(-8.033557860412632, -5.31710346732889))</td></tr><tr><td>Map(vectorType -> dense, length -> 2, values -> List(-6.917601009312907, -4.752036229281203))</td></tr><tr><td>Map(vectorType -> dense, length -> 2, values -> List(-8.119041148604694, -5.670855728169427))</td></tr><tr><td>Map(vectorType -> dense, length -> 2, values -> List(-7.473896185652439, -5.147224672475447))</td></tr><tr><td>Map(vectorType -> dense, length -> 2, values -> List(-7.852371052653645, -5.286691629685162))</td></tr><tr><td>Map(vectorType -> dense, length -> 2, values -> List(-8.899403868662263, -5.8777892498557485))</td></tr><tr><td>Map(vectorType -> dense, length -> 2, values -> List(-6.023597376518778, -4.134193849827047))</td></tr><tr><td>Map(vectorType -> dense, length -> 2, values -> List(-8.434952201602693, -5.682452579805189))</td></tr><tr><td>Map(vectorType -> dense, length -> 2, values -> List(-7.823593949182382, -5.0831210745170035))</td></tr><tr><td>Map(vectorType -> dense, length -> 2, values -> List(-8.419116099395078, -6.109744525642971))</td></tr><tr><td>Map(vectorType -> dense, length -> 2, values -> List(-7.164139286245536, -5.56918098458276))</td></tr><tr><td>Map(vectorType -> dense, length -> 2, values -> List(-7.305767085574095, -5.111314959494138))</td></tr><tr><td>Map(vectorType -> dense, length -> 2, values -> List(-7.667956928689149, -5.543228161901718))</td></tr><tr><td>Map(vectorType -> dense, length -> 2, values -> List(-6.848528712067455, -4.550134229483353))</td></tr><tr><td>Map(vectorType -> dense, length -> 2, values -> List(-7.088293356482225, -4.787311862800974))</td></tr><tr><td>Map(vectorType -> dense, length -> 2, values -> List(-7.40682150740243, -5.446203268919664))</td></tr><tr><td>Map(vectorType -> dense, length -> 2, values -> List(-7.452054192008074, -5.368895836490904))</td></tr><tr><td>Map(vectorType -> dense, length -> 2, values -> List(-8.989420496899282, -6.502691906541122))</td></tr><tr><td>Map(vectorType -> dense, length -> 2, values -> List(-9.298010554681888, -5.584275550248173))</td></tr><tr><td>Map(vectorType -> dense, length -> 2, values -> List(-6.803156845246661, -4.565802940392631))</td></tr><tr><td>Map(vectorType -> dense, length -> 2, values -> List(-7.930183045675049, -5.705148589444743))</td></tr><tr><td>Map(vectorType -> dense, length -> 2, values -> List(-6.701366238074565, -4.720861049069762))</td></tr><tr><td>Map(vectorType -> dense, length -> 2, values -> List(-9.00228517153354, -5.787626675739589))</td></tr><tr><td>Map(vectorType -> dense, length -> 2, values -> List(-6.89113126430047, -5.122553249475542))</td></tr><tr><td>Map(vectorType -> dense, length -> 2, values -> List(-7.777795636481208, -5.66194318264937))</td></tr><tr><td>Map(vectorType -> dense, length -> 2, values -> List(-8.116455606419835, -5.887853931950771))</td></tr><tr><td>Map(vectorType -> dense, length -> 2, values -> List(-6.7608732931204925, -5.147247782104946))</td></tr><tr><td>Map(vectorType -> dense, length -> 2, values -> List(-6.793497191724025, -5.210283925653681))</td></tr><tr><td>Map(vectorType -> dense, length -> 2, values -> List(-7.625973855382899, -5.11722310015039))</td></tr><tr><td>Map(vectorType -> dense, length -> 2, values -> List(-7.890368148612472, -5.7915923815364305))</td></tr><tr><td>Map(vectorType -> dense, length -> 2, values -> List(-8.344037910712876, -5.702221744022798))</td></tr><tr><td>Map(vectorType -> dense, length -> 2, values -> List(-8.733038794041097, -6.701117663620741))</td></tr><tr><td>Map(vectorType -> dense, length -> 2, values -> List(-7.661802775098053, -5.109674998158644))</td></tr><tr><td>Map(vectorType -> dense, length -> 2, values -> List(-6.946526374938514, -5.183539166370112))</td></tr><tr><td>Map(vectorType -> dense, length -> 2, values -> List(-7.283659942654116, -4.827050895749557))</td></tr><tr><td>Map(vectorType -> dense, length -> 2, values -> List(-8.57886506429619, -6.015038254398869))</td></tr><tr><td>Map(vectorType -> dense, length -> 2, values -> List(-7.6466084469110855, -5.467016777917481))</td></tr><tr><td>Map(vectorType -> dense, length -> 2, values -> List(-7.40746328142308, -5.376253102840723))</td></tr><tr><td>Map(vectorType -> dense, length -> 2, values -> List(-6.6716914719505045, -5.161962314804583))</td></tr><tr><td>Map(vectorType -> dense, length -> 2, values -> List(-7.609976275866246, -5.6992404487884905))</td></tr><tr><td>Map(vectorType -> dense, length -> 2, values -> List(-7.816519837844604, -5.510603855996711))</td></tr><tr><td>Map(vectorType -> dense, length -> 2, values -> List(-7.424632933511605, -5.736156043643755))</td></tr><tr><td>Map(vectorType -> dense, length -> 2, values -> List(-6.917601009312907, -4.752036229281203))</td></tr><tr><td>Map(vectorType -> dense, length -> 2, values -> List(-8.06537850768648, -5.604815179756887))</td></tr><tr><td>Map(vectorType -> dense, length -> 2, values -> List(-7.921111315341829, -5.631750774682384))</td></tr><tr><td>Map(vectorType -> dense, length -> 2, values -> List(-7.446474927155973, -5.514484879628299))</td></tr><tr><td>Map(vectorType -> dense, length -> 2, values -> List(-7.029531747423521, -4.951635594247205))</td></tr><tr><td>Map(vectorType -> dense, length -> 2, values -> List(-7.266710849653434, -5.405811431346169))</td></tr><tr><td>Map(vectorType -> dense, length -> 2, values -> List(-7.403306746827427, -5.443580535339715))</td></tr><tr><td>Map(vectorType -> dense, length -> 2, values -> List(-6.892553994556918, -5.044291638837142))</td></tr></tbody></table></div>"
      ]
     },
     "metadata": {
      "application/vnd.databricks.v1+output": {
       "addedWidgets": {},
       "aggData": [],
       "aggError": "",
       "aggOverflow": false,
       "aggSchema": [],
       "aggSeriesLimitReached": false,
       "aggType": "",
       "arguments": {},
       "columnCustomDisplayInfos": {},
       "data": [
        [
         {
          "length": 2,
          "values": [
           -2.818239506639468,
           -5.646349823412795
          ],
          "vectorType": "dense"
         }
        ],
        [
         {
          "length": 2,
          "values": [
           -2.788223445314679,
           -5.149951351762914
          ],
          "vectorType": "dense"
         }
        ],
        [
         {
          "length": 2,
          "values": [
           -2.613374563549708,
           -5.182003150742135
          ],
          "vectorType": "dense"
         }
        ],
        [
         {
          "length": 2,
          "values": [
           -2.7570222769675943,
           -5.008653597575778
          ],
          "vectorType": "dense"
         }
        ],
        [
         {
          "length": 2,
          "values": [
           -2.7736485960544743,
           -5.653707089762613
          ],
          "vectorType": "dense"
         }
        ],
        [
         {
          "length": 2,
          "values": [
           -3.221505499764512,
           -6.068283025890608
          ],
          "vectorType": "dense"
         }
        ],
        [
         {
          "length": 2,
          "values": [
           -2.6818273818683958,
           -5.2374911922991245
          ],
          "vectorType": "dense"
         }
        ],
        [
         {
          "length": 2,
          "values": [
           -2.8762201594623713,
           -5.490337536526022
          ],
          "vectorType": "dense"
         }
        ],
        [
         {
          "length": 2,
          "values": [
           -2.615982400828451,
           -4.74864082264099
          ],
          "vectorType": "dense"
         }
        ],
        [
         {
          "length": 2,
          "values": [
           -2.82960933478805,
           -5.213178330953577
          ],
          "vectorType": "dense"
         }
        ],
        [
         {
          "length": 2,
          "values": [
           -2.9954180419571483,
           -5.972021475476267
          ],
          "vectorType": "dense"
         }
        ],
        [
         {
          "length": 2,
          "values": [
           -2.8896099017002816,
           -5.341682515989067
          ],
          "vectorType": "dense"
         }
        ],
        [
         {
          "length": 2,
          "values": [
           -2.716255866420987,
           -5.091840576625976
          ],
          "vectorType": "dense"
         }
        ],
        [
         {
          "length": 2,
          "values": [
           -2.278561388743352,
           -4.815557989821311
          ],
          "vectorType": "dense"
         }
        ],
        [
         {
          "length": 2,
          "values": [
           -2.8576147426669745,
           -6.505717213265269
          ],
          "vectorType": "dense"
         }
        ],
        [
         {
          "length": 2,
          "values": [
           -3.1163260990778707,
           -6.665014907228345
          ],
          "vectorType": "dense"
         }
        ],
        [
         {
          "length": 2,
          "values": [
           -2.878837257384578,
           -6.137632091008951
          ],
          "vectorType": "dense"
         }
        ],
        [
         {
          "length": 2,
          "values": [
           -2.8540684263546225,
           -5.638801721421048
          ],
          "vectorType": "dense"
         }
        ],
        [
         {
          "length": 2,
          "values": [
           -3.3025448089914238,
           -6.199791615789905
          ],
          "vectorType": "dense"
         }
        ],
        [
         {
          "length": 2,
          "values": [
           -2.9143787327302357,
           -5.84051288557697
          ],
          "vectorType": "dense"
         }
        ],
        [
         {
          "length": 2,
          "values": [
           -3.192108917366486,
           -5.718298512481588
          ],
          "vectorType": "dense"
         }
        ],
        [
         {
          "length": 2,
          "values": [
           -2.9586599038518475,
           -5.759948640106721
          ],
          "vectorType": "dense"
         }
        ],
        [
         {
          "length": 2,
          "values": [
           -2.2864257169603928,
           -5.460420646366218
          ],
          "vectorType": "dense"
         }
        ],
        [
         {
          "length": 2,
          "values": [
           -3.199631950382797,
           -5.425661431641793
          ],
          "vectorType": "dense"
         }
        ],
        [
         {
          "length": 2,
          "values": [
           -3.1466110834852317,
           -5.28967071715031
          ],
          "vectorType": "dense"
         }
        ],
        [
         {
          "length": 2,
          "values": [
           -2.995696225683183,
           -5.180935696332426
          ],
          "vectorType": "dense"
         }
        ],
        [
         {
          "length": 2,
          "values": [
           -3.0335450594876656,
           -5.457904066262943
          ],
          "vectorType": "dense"
         }
        ],
        [
         {
          "length": 2,
          "values": [
           -2.9400452264129884,
           -5.694671434261894
          ],
          "vectorType": "dense"
         }
        ],
        [
         {
          "length": 2,
          "values": [
           -2.862830417224462,
           -5.638992557062976
          ],
          "vectorType": "dense"
         }
        ],
        [
         {
          "length": 2,
          "values": [
           -2.8703757453346586,
           -5.129991351903378
          ],
          "vectorType": "dense"
         }
        ],
        [
         {
          "length": 2,
          "values": [
           -2.914966655919652,
           -5.12263408555356
          ],
          "vectorType": "dense"
         }
        ],
        [
         {
          "length": 2,
          "values": [
           -3.092432635606829,
           -5.7378768410572665
          ],
          "vectorType": "dense"
         }
        ],
        [
         {
          "length": 2,
          "values": [
           -2.853502798259092,
           -6.140316397124655
          ],
          "vectorType": "dense"
         }
        ],
        [
         {
          "length": 2,
          "values": [
           -2.903628383508417,
           -6.42009833627705
          ],
          "vectorType": "dense"
         }
        ],
        [
         {
          "length": 2,
          "values": [
           -2.8654382545032053,
           -5.20563022896183
          ],
          "vectorType": "dense"
         }
        ],
        [
         {
          "length": 2,
          "values": [
           -2.6361234804903346,
           -5.396317048407774
          ],
          "vectorType": "dense"
         }
        ],
        [
         {
          "length": 2,
          "values": [
           -2.8771270827586317,
           -5.9263225982071175
          ],
          "vectorType": "dense"
         }
        ],
        [
         {
          "length": 2,
          "values": [
           -2.7016810171607823,
           -5.595596314625675
          ],
          "vectorType": "dense"
         }
        ],
        [
         {
          "length": 2,
          "values": [
           -2.5218630888270113,
           -4.838994232399077
          ],
          "vectorType": "dense"
         }
        ],
        [
         {
          "length": 2,
          "values": [
           -2.912358818640908,
           -5.5559964136547055
          ],
          "vectorType": "dense"
         }
        ],
        [
         {
          "length": 2,
          "values": [
           -2.7322627065811025,
           -5.590480110571949
          ],
          "vectorType": "dense"
         }
        ],
        [
         {
          "length": 2,
          "values": [
           -2.6529964275659013,
           -4.385992003186497
          ],
          "vectorType": "dense"
         }
        ],
        [
         {
          "length": 2,
          "values": [
           -2.5049585860140975,
           -4.985026519356083
          ],
          "vectorType": "dense"
         }
        ],
        [
         {
          "length": 2,
          "values": [
           -3.0967506475115187,
           -5.515824005757953
          ],
          "vectorType": "dense"
         }
        ],
        [
         {
          "length": 2,
          "values": [
           -3.2928758948253245,
           -5.763615718466881
          ],
          "vectorType": "dense"
         }
        ],
        [
         {
          "length": 2,
          "values": [
           -2.787913705851297,
           -5.076744372642483
          ],
          "vectorType": "dense"
         }
        ],
        [
         {
          "length": 2,
          "values": [
           -2.9642168736100643,
           -5.8307237212891305
          ],
          "vectorType": "dense"
         }
        ],
        [
         {
          "length": 2,
          "values": [
           -2.6629029649661544,
           -5.099007007333865
          ],
          "vectorType": "dense"
         }
        ],
        [
         {
          "length": 2,
          "values": [
           -2.9592793827786115,
           -5.906362598347583
          ],
          "vectorType": "dense"
         }
        ],
        [
         {
          "length": 2,
          "values": [
           -2.7990053502738452,
           -5.434658659327106
          ],
          "vectorType": "dense"
         }
        ],
        [
         {
          "length": 2,
          "values": [
           -6.787190821467355,
           -6.012113047295003
          ],
          "vectorType": "dense"
         }
        ],
        [
         {
          "length": 2,
          "values": [
           -6.434853664921323,
           -5.645286215090321
          ],
          "vectorType": "dense"
         }
        ],
        [
         {
          "length": 2,
          "values": [
           -6.966667454600398,
           -5.831215392136898
          ],
          "vectorType": "dense"
         }
        ],
        [
         {
          "length": 2,
          "values": [
           -5.685682852567375,
           -4.498993565007062
          ],
          "vectorType": "dense"
         }
        ],
        [
         {
          "length": 2,
          "values": [
           -6.5904683903206704,
           -5.4015432520254105
          ],
          "vectorType": "dense"
         }
        ],
        [
         {
          "length": 2,
          "values": [
           -6.144034216867082,
           -4.908705705259015
          ],
          "vectorType": "dense"
         }
        ],
        [
         {
          "length": 2,
          "values": [
           -6.597425795241451,
           -5.610420846889221
          ],
          "vectorType": "dense"
         }
        ],
        [
         {
          "length": 2,
          "values": [
           -4.7532424627793475,
           -4.322061615645798
          ],
          "vectorType": "dense"
         }
        ],
        [
         {
          "length": 2,
          "values": [
           -6.5464969586624395,
           -5.55531447661609
          ],
          "vectorType": "dense"
         }
        ],
        [
         {
          "length": 2,
          "values": [
           -5.493619728526109,
           -4.603870671822858
          ],
          "vectorType": "dense"
         }
        ],
        [
         {
          "length": 2,
          "values": [
           -4.994524248773678,
           -4.0609813863013
          ],
          "vectorType": "dense"
         }
        ],
        [
         {
          "length": 2,
          "values": [
           -6.014063690056601,
           -5.222971341328653
          ],
          "vectorType": "dense"
         }
        ],
        [
         {
          "length": 2,
          "values": [
           -5.7673416407210505,
           -4.7769161131472195
          ],
          "vectorType": "dense"
         }
        ],
        [
         {
          "length": 2,
          "values": [
           -6.487299643079894,
           -5.202134722701336
          ],
          "vectorType": "dense"
         }
        ],
        [
         {
          "length": 2,
          "values": [
           -5.328439760927237,
           -5.072098368125104
          ],
          "vectorType": "dense"
         }
        ],
        [
         {
          "length": 2,
          "values": [
           -6.430225913553252,
           -5.794132071269205
          ],
          "vectorType": "dense"
         }
        ],
        [
         {
          "length": 2,
          "values": [
           -6.162648894305941,
           -4.9739829111038425
          ],
          "vectorType": "dense"
         }
        ],
        [
         {
          "length": 2,
          "values": [
           -5.738470125926676,
           -4.993341810002779
          ],
          "vectorType": "dense"
         }
        ],
        [
         {
          "length": 2,
          "values": [
           -6.4470988606288175,
           -4.783807026047928
          ],
          "vectorType": "dense"
         }
        ],
        [
         {
          "length": 2,
          "values": [
           -5.547592108907705,
           -4.74311819935583
          ],
          "vectorType": "dense"
         }
        ],
        [
         {
          "length": 2,
          "values": [
           -6.618648309959054,
           -5.242335724632904
          ],
          "vectorType": "dense"
         }
        ],
        [
         {
          "length": 2,
          "values": [
           -5.860253550606312,
           -5.2580275451716805
          ],
          "vectorType": "dense"
         }
        ],
        [
         {
          "length": 2,
          "values": [
           -6.800549007967918,
           -4.999165268493776
          ],
          "vectorType": "dense"
         }
        ],
        [
         {
          "length": 2,
          "values": [
           -6.424094055056041,
           -5.144214783206326
          ],
          "vectorType": "dense"
         }
        ],
        [
         {
          "length": 2,
          "values": [
           -6.217218458520416,
           -5.476008521197478
          ],
          "vectorType": "dense"
         }
        ],
        [
         {
          "length": 2,
          "values": [
           -6.402539505781171,
           -5.655457050662017
          ],
          "vectorType": "dense"
         }
        ],
        [
         {
          "length": 2,
          "values": [
           -6.834389569331092,
           -5.571393452844038
          ],
          "vectorType": "dense"
         }
        ],
        [
         {
          "length": 2,
          "values": [
           -7.060167287675074,
           -5.594448024137948
          ],
          "vectorType": "dense"
         }
        ],
        [
         {
          "length": 2,
          "values": [
           -6.315655782426546,
           -5.163602276140077
          ],
          "vectorType": "dense"
         }
        ],
        [
         {
          "length": 2,
          "values": [
           -5.196781354584695,
           -4.958690387073107
          ],
          "vectorType": "dense"
         }
        ],
        [
         {
          "length": 2,
          "values": [
           -5.434238640540641,
           -4.621780445028229
          ],
          "vectorType": "dense"
         }
        ],
        [
         {
          "length": 2,
          "values": [
           -5.312742660230502,
           -4.6466658132995615
          ],
          "vectorType": "dense"
         }
        ],
        [
         {
          "length": 2,
          "values": [
           -5.63879384416702,
           -5.0129201385784565
          ],
          "vectorType": "dense"
         }
        ],
        [
         {
          "length": 2,
          "values": [
           -6.882391568524516,
           -4.905998289513811
          ],
          "vectorType": "dense"
         }
        ],
        [
         {
          "length": 2,
          "values": [
           -6.0903715759488675,
           -4.842665156846474
          ],
          "vectorType": "dense"
         }
        ],
        [
         {
          "length": 2,
          "values": [
           -6.309223445109416,
           -5.521134891540843
          ],
          "vectorType": "dense"
         }
        ],
        [
         {
          "length": 2,
          "values": [
           -6.7230560150533565,
           -5.734572170438701
          ],
          "vectorType": "dense"
         }
        ],
        [
         {
          "length": 2,
          "values": [
           -6.317460368375604,
           -4.954915516918193
          ],
          "vectorType": "dense"
         }
        ],
        [
         {
          "length": 2,
          "values": [
           -5.748322812495696,
           -5.058428180205678
          ],
          "vectorType": "dense"
         }
        ],
        [
         {
          "length": 2,
          "values": [
           -5.6687783497544615,
           -4.645025851964068
          ],
          "vectorType": "dense"
         }
        ],
        [
         {
          "length": 2,
          "values": [
           -5.967165421012783,
           -4.6562410323159735
          ],
          "vectorType": "dense"
         }
        ],
        [
         {
          "length": 2,
          "values": [
           -6.393180331078454,
           -5.292488132459424
          ],
          "vectorType": "dense"
         }
        ],
        [
         {
          "length": 2,
          "values": [
           -5.732913156168459,
           -4.922566728820368
          ],
          "vectorType": "dense"
         }
        ],
        [
         {
          "length": 2,
          "values": [
           -4.797833373364341,
           -4.31470434929598
          ],
          "vectorType": "dense"
         }
        ],
        [
         {
          "length": 2,
          "values": [
           -5.859346627310051,
           -4.822042483490584
          ],
          "vectorType": "dense"
         }
        ],
        [
         {
          "length": 2,
          "values": [
           -5.834299612554062,
           -5.1142978930465235
          ],
          "vectorType": "dense"
         }
        ],
        [
         {
          "length": 2,
          "values": [
           -5.878580783675675,
           -5.033733647576274
          ],
          "vectorType": "dense"
         }
        ],
        [
         {
          "length": 2,
          "values": [
           -6.1449411401633425,
           -5.34469076694011
          ],
          "vectorType": "dense"
         }
        ],
        [
         {
          "length": 2,
          "values": [
           -4.595895267660169,
           -4.570859210228679
          ],
          "vectorType": "dense"
         }
        ],
        [
         {
          "length": 2,
          "values": [
           -5.8013659744871475,
           -4.978054770377358
          ],
          "vectorType": "dense"
         }
        ],
        [
         {
          "length": 2,
          "values": [
           -8.033557860412632,
           -5.31710346732889
          ],
          "vectorType": "dense"
         }
        ],
        [
         {
          "length": 2,
          "values": [
           -6.917601009312907,
           -4.752036229281203
          ],
          "vectorType": "dense"
         }
        ],
        [
         {
          "length": 2,
          "values": [
           -8.119041148604694,
           -5.670855728169427
          ],
          "vectorType": "dense"
         }
        ],
        [
         {
          "length": 2,
          "values": [
           -7.473896185652439,
           -5.147224672475447
          ],
          "vectorType": "dense"
         }
        ],
        [
         {
          "length": 2,
          "values": [
           -7.852371052653645,
           -5.286691629685162
          ],
          "vectorType": "dense"
         }
        ],
        [
         {
          "length": 2,
          "values": [
           -8.899403868662263,
           -5.8777892498557485
          ],
          "vectorType": "dense"
         }
        ],
        [
         {
          "length": 2,
          "values": [
           -6.023597376518778,
           -4.134193849827047
          ],
          "vectorType": "dense"
         }
        ],
        [
         {
          "length": 2,
          "values": [
           -8.434952201602693,
           -5.682452579805189
          ],
          "vectorType": "dense"
         }
        ],
        [
         {
          "length": 2,
          "values": [
           -7.823593949182382,
           -5.0831210745170035
          ],
          "vectorType": "dense"
         }
        ],
        [
         {
          "length": 2,
          "values": [
           -8.419116099395078,
           -6.109744525642971
          ],
          "vectorType": "dense"
         }
        ],
        [
         {
          "length": 2,
          "values": [
           -7.164139286245536,
           -5.56918098458276
          ],
          "vectorType": "dense"
         }
        ],
        [
         {
          "length": 2,
          "values": [
           -7.305767085574095,
           -5.111314959494138
          ],
          "vectorType": "dense"
         }
        ],
        [
         {
          "length": 2,
          "values": [
           -7.667956928689149,
           -5.543228161901718
          ],
          "vectorType": "dense"
         }
        ],
        [
         {
          "length": 2,
          "values": [
           -6.848528712067455,
           -4.550134229483353
          ],
          "vectorType": "dense"
         }
        ],
        [
         {
          "length": 2,
          "values": [
           -7.088293356482225,
           -4.787311862800974
          ],
          "vectorType": "dense"
         }
        ],
        [
         {
          "length": 2,
          "values": [
           -7.40682150740243,
           -5.446203268919664
          ],
          "vectorType": "dense"
         }
        ],
        [
         {
          "length": 2,
          "values": [
           -7.452054192008074,
           -5.368895836490904
          ],
          "vectorType": "dense"
         }
        ],
        [
         {
          "length": 2,
          "values": [
           -8.989420496899282,
           -6.502691906541122
          ],
          "vectorType": "dense"
         }
        ],
        [
         {
          "length": 2,
          "values": [
           -9.298010554681888,
           -5.584275550248173
          ],
          "vectorType": "dense"
         }
        ],
        [
         {
          "length": 2,
          "values": [
           -6.803156845246661,
           -4.565802940392631
          ],
          "vectorType": "dense"
         }
        ],
        [
         {
          "length": 2,
          "values": [
           -7.930183045675049,
           -5.705148589444743
          ],
          "vectorType": "dense"
         }
        ],
        [
         {
          "length": 2,
          "values": [
           -6.701366238074565,
           -4.720861049069762
          ],
          "vectorType": "dense"
         }
        ],
        [
         {
          "length": 2,
          "values": [
           -9.00228517153354,
           -5.787626675739589
          ],
          "vectorType": "dense"
         }
        ],
        [
         {
          "length": 2,
          "values": [
           -6.89113126430047,
           -5.122553249475542
          ],
          "vectorType": "dense"
         }
        ],
        [
         {
          "length": 2,
          "values": [
           -7.777795636481208,
           -5.66194318264937
          ],
          "vectorType": "dense"
         }
        ],
        [
         {
          "length": 2,
          "values": [
           -8.116455606419835,
           -5.887853931950771
          ],
          "vectorType": "dense"
         }
        ],
        [
         {
          "length": 2,
          "values": [
           -6.7608732931204925,
           -5.147247782104946
          ],
          "vectorType": "dense"
         }
        ],
        [
         {
          "length": 2,
          "values": [
           -6.793497191724025,
           -5.210283925653681
          ],
          "vectorType": "dense"
         }
        ],
        [
         {
          "length": 2,
          "values": [
           -7.625973855382899,
           -5.11722310015039
          ],
          "vectorType": "dense"
         }
        ],
        [
         {
          "length": 2,
          "values": [
           -7.890368148612472,
           -5.7915923815364305
          ],
          "vectorType": "dense"
         }
        ],
        [
         {
          "length": 2,
          "values": [
           -8.344037910712876,
           -5.702221744022798
          ],
          "vectorType": "dense"
         }
        ],
        [
         {
          "length": 2,
          "values": [
           -8.733038794041097,
           -6.701117663620741
          ],
          "vectorType": "dense"
         }
        ],
        [
         {
          "length": 2,
          "values": [
           -7.661802775098053,
           -5.109674998158644
          ],
          "vectorType": "dense"
         }
        ],
        [
         {
          "length": 2,
          "values": [
           -6.946526374938514,
           -5.183539166370112
          ],
          "vectorType": "dense"
         }
        ],
        [
         {
          "length": 2,
          "values": [
           -7.283659942654116,
           -4.827050895749557
          ],
          "vectorType": "dense"
         }
        ],
        [
         {
          "length": 2,
          "values": [
           -8.57886506429619,
           -6.015038254398869
          ],
          "vectorType": "dense"
         }
        ],
        [
         {
          "length": 2,
          "values": [
           -7.6466084469110855,
           -5.467016777917481
          ],
          "vectorType": "dense"
         }
        ],
        [
         {
          "length": 2,
          "values": [
           -7.40746328142308,
           -5.376253102840723
          ],
          "vectorType": "dense"
         }
        ],
        [
         {
          "length": 2,
          "values": [
           -6.6716914719505045,
           -5.161962314804583
          ],
          "vectorType": "dense"
         }
        ],
        [
         {
          "length": 2,
          "values": [
           -7.609976275866246,
           -5.6992404487884905
          ],
          "vectorType": "dense"
         }
        ],
        [
         {
          "length": 2,
          "values": [
           -7.816519837844604,
           -5.510603855996711
          ],
          "vectorType": "dense"
         }
        ],
        [
         {
          "length": 2,
          "values": [
           -7.424632933511605,
           -5.736156043643755
          ],
          "vectorType": "dense"
         }
        ],
        [
         {
          "length": 2,
          "values": [
           -6.917601009312907,
           -4.752036229281203
          ],
          "vectorType": "dense"
         }
        ],
        [
         {
          "length": 2,
          "values": [
           -8.06537850768648,
           -5.604815179756887
          ],
          "vectorType": "dense"
         }
        ],
        [
         {
          "length": 2,
          "values": [
           -7.921111315341829,
           -5.631750774682384
          ],
          "vectorType": "dense"
         }
        ],
        [
         {
          "length": 2,
          "values": [
           -7.446474927155973,
           -5.514484879628299
          ],
          "vectorType": "dense"
         }
        ],
        [
         {
          "length": 2,
          "values": [
           -7.029531747423521,
           -4.951635594247205
          ],
          "vectorType": "dense"
         }
        ],
        [
         {
          "length": 2,
          "values": [
           -7.266710849653434,
           -5.405811431346169
          ],
          "vectorType": "dense"
         }
        ],
        [
         {
          "length": 2,
          "values": [
           -7.403306746827427,
           -5.443580535339715
          ],
          "vectorType": "dense"
         }
        ],
        [
         {
          "length": 2,
          "values": [
           -6.892553994556918,
           -5.044291638837142
          ],
          "vectorType": "dense"
         }
        ]
       ],
       "datasetInfos": [],
       "dbfsResultPath": null,
       "isJsonSchema": true,
       "metadata": {},
       "overflow": false,
       "plotOptions": {
        "customPlotOptions": {},
        "displayType": "table",
        "pivotAggregation": null,
        "pivotColumns": null,
        "xColumns": null,
        "yColumns": null
       },
       "removedWidgets": [],
       "schema": [
        {
         "metadata": "{\"ml_attr\":{\"num_attrs\":2}}",
         "name": "pcaFeatures",
         "type": "{\"type\":\"udt\",\"class\":\"org.apache.spark.ml.linalg.VectorUDT\",\"pyClass\":\"pyspark.ml.linalg.VectorUDT\",\"sqlType\":{\"type\":\"struct\",\"fields\":[{\"name\":\"type\",\"type\":\"byte\",\"nullable\":false,\"metadata\":{}},{\"name\":\"size\",\"type\":\"integer\",\"nullable\":true,\"metadata\":{}},{\"name\":\"indices\",\"type\":{\"type\":\"array\",\"elementType\":\"integer\",\"containsNull\":false},\"nullable\":true,\"metadata\":{}},{\"name\":\"values\",\"type\":{\"type\":\"array\",\"elementType\":\"double\",\"containsNull\":false},\"nullable\":true,\"metadata\":{}}]}}"
        }
       ],
       "type": "table"
      }
     },
     "output_type": "display_data"
    }
   ],
   "source": [
    "display(result)"
   ]
  }
 ],
 "metadata": {
  "application/vnd.databricks.v1+notebook": {
   "dashboards": [],
   "environmentMetadata": null,
   "language": "python",
   "notebookMetadata": {
    "pythonIndentUnit": 4
   },
   "notebookName": "Dimensionality Reduction",
   "widgets": {}
  }
 },
 "nbformat": 4,
 "nbformat_minor": 0
}
