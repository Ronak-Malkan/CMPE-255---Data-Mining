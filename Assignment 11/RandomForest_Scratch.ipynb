{
  "nbformat": 4,
  "nbformat_minor": 0,
  "metadata": {
    "colab": {
      "provenance": []
    },
    "kernelspec": {
      "name": "python3",
      "display_name": "Python 3"
    },
    "language_info": {
      "name": "python"
    }
  },
  "cells": [
    {
      "cell_type": "code",
      "execution_count": 1,
      "metadata": {
        "colab": {
          "base_uri": "https://localhost:8080/"
        },
        "id": "UlR_OUAGYvPR",
        "outputId": "f2d8c4df-a4d3-4b42-e46b-0d146ca7237b"
      },
      "outputs": [
        {
          "output_type": "stream",
          "name": "stdout",
          "text": [
            "[0 1 1 1 0 1 1 0 0 1 1 0 0 1 0 1 0 0 0 0 1 1 0 1 0 1 0 0 0 1 0 0 0 0 1 1 0\n",
            " 1 0 1 0 1 1 0 1 0 1 1 1 0 0 0 1 0 1 0 0 0 0 1 1 1 1 0 1 1 1 1 0 0 1 0 1 1\n",
            " 0 0 0 0 1 1 1 0 1 1 0 1 0 0 0 1 1 1 0 1 0 1 0 0 1 0]\n",
            "[0 1 0 1 0 1 1 0 0 1 1 1 0 1 0 1 0 0 0 0 1 1 0 1 0 1 0 0 0 1 0 0 0 0 1 1 0\n",
            " 1 0 1 0 1 1 0 1 0 1 1 1 1 0 0 1 0 1 0 0 0 0 1 1 1 1 0 1 1 1 1 0 0 1 0 0 1\n",
            " 0 0 0 0 1 1 1 0 1 1 0 1 0 0 0 1 0 0 0 1 0 1 0 0 1 0]\n",
            "Accuracy: 0.94\n"
          ]
        }
      ],
      "source": [
        "\n",
        "\n",
        "import numpy as np\n",
        "from sklearn.datasets import make_classification\n",
        "from sklearn.metrics import accuracy_score\n",
        "from sklearn.model_selection import train_test_split\n",
        "\n",
        "\n",
        "X, y = make_classification(n_samples=500, n_features=5, random_state=42)\n",
        "X_train, X_test, y_train, y_test = train_test_split(X, y, test_size=0.2, random_state=42)\n",
        "\n",
        "\n",
        "\n",
        "class RandomForest:\n",
        "    def __init__(self, n_trees=10, max_depth=5, sample_size=0.8):\n",
        "        self.n_trees = n_trees\n",
        "        self.max_depth = max_depth\n",
        "        self.sample_size = sample_size\n",
        "        self.trees = []\n",
        "\n",
        "    def _bootstrap_sample(self, X, y):\n",
        "        n_samples = int(len(y) * self.sample_size)\n",
        "        indices = np.random.choice(len(y), size=n_samples, replace=True)\n",
        "        return X[indices], y[indices]\n",
        "\n",
        "    def fit(self, X, y):\n",
        "        for _ in range(self.n_trees):\n",
        "            X_sample, y_sample = self._bootstrap_sample(X, y)\n",
        "            tree = DecisionTreeClassifier(max_depth=self.max_depth)\n",
        "            tree.fit(X_sample, y_sample)\n",
        "            self.trees.append(tree)\n",
        "\n",
        "    def predict(self, X):\n",
        "        predictions = np.array([tree.predict(X) for tree in self.trees])\n",
        "        return np.squeeze(np.apply_along_axis(lambda x: np.bincount(x).argmax(), axis=0, arr=predictions))\n",
        "\n",
        "\n",
        "\n",
        "from sklearn.tree import DecisionTreeClassifier\n",
        "\n",
        "rf = RandomForest(n_trees=50, max_depth=5)\n",
        "rf.fit(X_train, y_train)\n",
        "y_pred = rf.predict(X_test)\n",
        "\n",
        "print(y_pred)\n",
        "print(y_test)\n",
        "\n",
        "print(\"Accuracy:\", accuracy_score(y_test, y_pred))"
      ]
    }
  ]
}