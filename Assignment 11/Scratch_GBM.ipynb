{
  "nbformat": 4,
  "nbformat_minor": 0,
  "metadata": {
    "colab": {
      "provenance": []
    },
    "kernelspec": {
      "name": "python3",
      "display_name": "Python 3"
    },
    "language_info": {
      "name": "python"
    }
  },
  "cells": [
    {
      "cell_type": "code",
      "execution_count": 1,
      "metadata": {
        "colab": {
          "base_uri": "https://localhost:8080/"
        },
        "id": "js1dzZQlYWyM",
        "outputId": "ee81e9a9-2cff-4b00-ac57-fea3faa9c6f5"
      },
      "outputs": [
        {
          "output_type": "stream",
          "name": "stdout",
          "text": [
            "[0.52686469 0.3977175  0.49101848 0.34907882 0.54429263 0.56189249\n",
            " 0.37554505 0.22910309 0.36048092 0.50025191 0.47638719 0.67376685\n",
            " 0.56189249 0.47638719 0.40668067 0.37623698 0.29946109 0.54429263\n",
            " 0.67376685 0.45550772 0.52862029 0.34907882 0.56634187 0.45298931\n",
            " 0.45298931 0.78116225 0.28312479 0.36153315 0.42030755 0.37554505\n",
            " 0.39855469 0.41670261 0.56634187 0.45219194 0.51351882 0.24074751\n",
            " 0.51199042 0.34907882 0.36745581 0.64438088 0.33586509 0.62554572\n",
            " 0.52862029 0.28312479 0.33586509 0.56189249 0.36153315 0.47638719\n",
            " 0.45550772 0.54429263 0.47604735 0.51019375 0.34907882 0.45298931\n",
            " 0.37554505 0.43595974 0.59583147 0.45219194 0.55561292 0.56634187\n",
            " 0.19158115 0.31036453 0.51351882 0.55561292 0.60272649 0.47183519\n",
            " 0.53996901 0.55036644 0.52111097 0.68675002 0.64438088 0.50025191\n",
            " 0.64438088 0.50474758 0.34907882 0.28312479 0.43595974 0.59583147\n",
            " 0.54429263 0.49101848 0.41065883 0.37864175 0.47638719 0.41065883\n",
            " 0.31036453 0.45298931 0.60272649 0.44478217 0.56189249 0.56189249\n",
            " 0.47604735 0.24074751 0.44478217 0.72703107 0.59709445 0.52862029\n",
            " 0.45219194 0.25383077 0.28312479 0.62554572]\n",
            "[0.53574437 0.4079232  0.52774254 0.3416412  0.55073932 0.56219511\n",
            " 0.37735539 0.24098526 0.38897929 0.52174866 0.48838528 0.66701515\n",
            " 0.54571822 0.46574234 0.38698295 0.37291688 0.26003271 0.54476191\n",
            " 0.66835853 0.4646848  0.52897517 0.35754754 0.58509339 0.45483668\n",
            " 0.44545554 0.83151767 0.29381233 0.40633783 0.40797144 0.37456342\n",
            " 0.39400604 0.44477924 0.55884211 0.46337828 0.52753168 0.25537993\n",
            " 0.50512036 0.31240371 0.32326    0.64138381 0.35608778 0.65751329\n",
            " 0.56127493 0.30396604 0.33531502 0.58046477 0.36868556 0.485974\n",
            " 0.46964996 0.56954637 0.49387562 0.52487195 0.33616579 0.47296619\n",
            " 0.38240879 0.43245833 0.61067453 0.45391415 0.57390003 0.55795645\n",
            " 0.16245374 0.28059011 0.53350898 0.55964003 0.61184889 0.508785\n",
            " 0.54130618 0.58065214 0.52002449 0.69594501 0.68650079 0.5002111\n",
            " 0.64673387 0.48837393 0.29429967 0.28363196 0.44217847 0.61733271\n",
            " 0.56905084 0.47846535 0.44323317 0.39499153 0.46994051 0.45045488\n",
            " 0.30645566 0.48781822 0.56050267 0.42094793 0.56546251 0.55950117\n",
            " 0.45028282 0.23944688 0.41891809 0.70657129 0.64723042 0.49742264\n",
            " 0.44842267 0.22976686 0.27475402 0.65498578]\n",
            "MSE: 0.0004601841945214348\n"
          ]
        }
      ],
      "source": [
        "import numpy as np\n",
        "import pandas as pd\n",
        "from sklearn.datasets import make_regression\n",
        "from sklearn.model_selection import train_test_split\n",
        "from sklearn.metrics import mean_squared_error\n",
        "\n",
        "\n",
        "\n",
        "X, y = make_regression(n_samples=500, n_features=1, noise=10, random_state=42)\n",
        "y = (y - y.min()) / (y.max() - y.min())  # Normalize target\n",
        "X_train, X_test, y_train, y_test = train_test_split(X, y, test_size=0.2, random_state=42)\n",
        "\n",
        "\n",
        "class GBM:\n",
        "    def __init__(self, n_estimators=100, learning_rate=0.1):\n",
        "        self.n_estimators = n_estimators\n",
        "        self.learning_rate = learning_rate\n",
        "        self.models = []\n",
        "\n",
        "    def fit(self, X, y):\n",
        "        # Initialize residuals\n",
        "        residuals = y\n",
        "        for _ in range(self.n_estimators):\n",
        "            # Fit a simple regression tree\n",
        "            tree = DecisionTreeRegressor(max_depth=3)\n",
        "            tree.fit(X, residuals)\n",
        "            self.models.append(tree)\n",
        "            predictions = tree.predict(X)\n",
        "            residuals -= self.learning_rate * predictions\n",
        "\n",
        "    def predict(self, X):\n",
        "        pred = np.zeros(X.shape[0])\n",
        "        for model in self.models:\n",
        "            pred += self.learning_rate * model.predict(X)\n",
        "        return pred\n",
        "\n",
        "\n",
        "from sklearn.tree import DecisionTreeRegressor\n",
        "\n",
        "gbm = GBM(n_estimators=50, learning_rate=0.1)\n",
        "gbm.fit(X_train, y_train)\n",
        "y_pred = gbm.predict(X_test)\n",
        "\n",
        "print(y_pred)\n",
        "print(y_test)\n",
        "\n",
        "print(\"MSE:\", mean_squared_error(y_test, y_pred))\n",
        "\n"
      ]
    }
  ]
}