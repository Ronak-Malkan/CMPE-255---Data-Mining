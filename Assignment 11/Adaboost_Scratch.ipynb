{
  "nbformat": 4,
  "nbformat_minor": 0,
  "metadata": {
    "colab": {
      "provenance": []
    },
    "kernelspec": {
      "name": "python3",
      "display_name": "Python 3"
    },
    "language_info": {
      "name": "python"
    }
  },
  "cells": [
    {
      "cell_type": "code",
      "execution_count": 1,
      "metadata": {
        "colab": {
          "base_uri": "https://localhost:8080/"
        },
        "id": "eQ39bzS-URDQ",
        "outputId": "30528767-1778-4ace-bbc4-e5dc33634aba"
      },
      "outputs": [
        {
          "output_type": "stream",
          "name": "stdout",
          "text": [
            "Accuracy: 0.93\n"
          ]
        }
      ],
      "source": [
        "\n",
        "\n",
        "import numpy as np\n",
        "from sklearn.datasets import make_classification\n",
        "from sklearn.metrics import accuracy_score\n",
        "from sklearn.model_selection import train_test_split\n",
        "from sklearn.tree import DecisionTreeClassifier\n",
        "\n",
        "\n",
        "\n",
        "X, y = make_classification(n_samples=500, n_features=5, random_state=42)\n",
        "y = np.where(y == 0, -1, 1)  # Convert labels to {-1, 1}\n",
        "X_train, X_test, y_train, y_test = train_test_split(X, y, test_size=0.2, random_state=42)\n",
        "\n",
        "\n",
        "\n",
        "class AdaBoost:\n",
        "    def __init__(self, n_estimators=50):\n",
        "        self.n_estimators = n_estimators\n",
        "        self.alphas = []\n",
        "        self.models = []\n",
        "\n",
        "    def fit(self, X, y):\n",
        "        n_samples, n_features = X.shape\n",
        "        w = np.ones(n_samples) / n_samples\n",
        "        for _ in range(self.n_estimators):\n",
        "            tree = DecisionTreeClassifier(max_depth=1)\n",
        "            tree.fit(X, y, sample_weight=w)\n",
        "            y_pred = tree.predict(X)\n",
        "            err = np.sum(w * (y_pred != y)) / np.sum(w)\n",
        "            alpha = 0.5 * np.log((1 - err) / (err + 1e-10))\n",
        "            self.alphas.append(alpha)\n",
        "            self.models.append(tree)\n",
        "            w = w * np.exp(-alpha * y * y_pred)\n",
        "            w /= np.sum(w)\n",
        "\n",
        "    def predict(self, X):\n",
        "        pred = sum(alpha * model.predict(X) for alpha, model in zip(self.alphas, self.models))\n",
        "        return np.sign(pred)\n",
        "\n",
        "\n",
        "adaboost = AdaBoost(n_estimators=50)\n",
        "adaboost.fit(X_train, y_train)\n",
        "y_pred = adaboost.predict(X_test)\n",
        "\n",
        "print(\"Accuracy:\", accuracy_score(y_test, y_pred))\n",
        ""
      ]
    }
  ]
}